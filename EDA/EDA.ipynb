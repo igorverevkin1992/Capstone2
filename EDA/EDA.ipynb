{
 "cells": [
  {
   "cell_type": "markdown",
   "metadata": {},
   "source": [
    "# Capstone 2 Exploratory Data Analysis\n",
    "\n",
    "In this part we will perform Exploratory Data Analysis of out dataset. During this analysis we will try to answer several questions about our data.\n",
    "What is the minimum, average and maximum age in the dataset?\n",
    "Which gender has more positive cases? What is the percentage of positive cases in each gender?\n",
    "What features are intercorellated and what are the coefficients of correlation?\n",
    "What feature is the most correlated with the target?\n",
    "What feature is the least correlated with the target?\n",
    "What feature explains the most of variance?"
   ]
  },
  {
   "cell_type": "code",
   "execution_count": 1,
   "metadata": {},
   "outputs": [],
   "source": [
    "import pandas as pd\n",
    "import numpy as np\n",
    "import os\n",
    "import matplotlib.pyplot as plt\n",
    "import seaborn as sns\n",
    "import pickle"
   ]
  },
  {
   "cell_type": "code",
   "execution_count": 2,
   "metadata": {},
   "outputs": [],
   "source": [
    "df = pd.read_csv('D:\\Tutorials\\SDST\\My Projects\\Capstone2\\Data Wrangling\\Diabetes_Data_wrangling.csv')"
   ]
  },
  {
   "cell_type": "code",
   "execution_count": 3,
   "metadata": {},
   "outputs": [
    {
     "data": {
      "text/html": [
       "<div>\n",
       "<style scoped>\n",
       "    .dataframe tbody tr th:only-of-type {\n",
       "        vertical-align: middle;\n",
       "    }\n",
       "\n",
       "    .dataframe tbody tr th {\n",
       "        vertical-align: top;\n",
       "    }\n",
       "\n",
       "    .dataframe thead th {\n",
       "        text-align: right;\n",
       "    }\n",
       "</style>\n",
       "<table border=\"1\" class=\"dataframe\">\n",
       "  <thead>\n",
       "    <tr style=\"text-align: right;\">\n",
       "      <th></th>\n",
       "      <th>Age</th>\n",
       "      <th>Gender</th>\n",
       "      <th>Polyuria</th>\n",
       "      <th>Polydipsia</th>\n",
       "      <th>sudden weight loss</th>\n",
       "      <th>weakness</th>\n",
       "      <th>Polyphagia</th>\n",
       "      <th>Genital thrush</th>\n",
       "      <th>visual blurring</th>\n",
       "      <th>Itching</th>\n",
       "      <th>Irritability</th>\n",
       "      <th>delayed healing</th>\n",
       "      <th>partial paresis</th>\n",
       "      <th>muscle stiffness</th>\n",
       "      <th>Alopecia</th>\n",
       "      <th>Obesity</th>\n",
       "      <th>class</th>\n",
       "    </tr>\n",
       "  </thead>\n",
       "  <tbody>\n",
       "    <tr>\n",
       "      <th>0</th>\n",
       "      <td>40</td>\n",
       "      <td>Male</td>\n",
       "      <td>No</td>\n",
       "      <td>Yes</td>\n",
       "      <td>No</td>\n",
       "      <td>Yes</td>\n",
       "      <td>No</td>\n",
       "      <td>No</td>\n",
       "      <td>No</td>\n",
       "      <td>Yes</td>\n",
       "      <td>No</td>\n",
       "      <td>Yes</td>\n",
       "      <td>No</td>\n",
       "      <td>Yes</td>\n",
       "      <td>Yes</td>\n",
       "      <td>Yes</td>\n",
       "      <td>Positive</td>\n",
       "    </tr>\n",
       "    <tr>\n",
       "      <th>1</th>\n",
       "      <td>58</td>\n",
       "      <td>Male</td>\n",
       "      <td>No</td>\n",
       "      <td>No</td>\n",
       "      <td>No</td>\n",
       "      <td>Yes</td>\n",
       "      <td>No</td>\n",
       "      <td>No</td>\n",
       "      <td>Yes</td>\n",
       "      <td>No</td>\n",
       "      <td>No</td>\n",
       "      <td>No</td>\n",
       "      <td>Yes</td>\n",
       "      <td>No</td>\n",
       "      <td>Yes</td>\n",
       "      <td>No</td>\n",
       "      <td>Positive</td>\n",
       "    </tr>\n",
       "    <tr>\n",
       "      <th>2</th>\n",
       "      <td>41</td>\n",
       "      <td>Male</td>\n",
       "      <td>Yes</td>\n",
       "      <td>No</td>\n",
       "      <td>No</td>\n",
       "      <td>Yes</td>\n",
       "      <td>Yes</td>\n",
       "      <td>No</td>\n",
       "      <td>No</td>\n",
       "      <td>Yes</td>\n",
       "      <td>No</td>\n",
       "      <td>Yes</td>\n",
       "      <td>No</td>\n",
       "      <td>Yes</td>\n",
       "      <td>Yes</td>\n",
       "      <td>No</td>\n",
       "      <td>Positive</td>\n",
       "    </tr>\n",
       "    <tr>\n",
       "      <th>3</th>\n",
       "      <td>45</td>\n",
       "      <td>Male</td>\n",
       "      <td>No</td>\n",
       "      <td>No</td>\n",
       "      <td>Yes</td>\n",
       "      <td>Yes</td>\n",
       "      <td>Yes</td>\n",
       "      <td>Yes</td>\n",
       "      <td>No</td>\n",
       "      <td>Yes</td>\n",
       "      <td>No</td>\n",
       "      <td>Yes</td>\n",
       "      <td>No</td>\n",
       "      <td>No</td>\n",
       "      <td>No</td>\n",
       "      <td>No</td>\n",
       "      <td>Positive</td>\n",
       "    </tr>\n",
       "    <tr>\n",
       "      <th>4</th>\n",
       "      <td>60</td>\n",
       "      <td>Male</td>\n",
       "      <td>Yes</td>\n",
       "      <td>Yes</td>\n",
       "      <td>Yes</td>\n",
       "      <td>Yes</td>\n",
       "      <td>Yes</td>\n",
       "      <td>No</td>\n",
       "      <td>Yes</td>\n",
       "      <td>Yes</td>\n",
       "      <td>Yes</td>\n",
       "      <td>Yes</td>\n",
       "      <td>Yes</td>\n",
       "      <td>Yes</td>\n",
       "      <td>Yes</td>\n",
       "      <td>Yes</td>\n",
       "      <td>Positive</td>\n",
       "    </tr>\n",
       "  </tbody>\n",
       "</table>\n",
       "</div>"
      ],
      "text/plain": [
       "   Age Gender Polyuria Polydipsia sudden weight loss weakness Polyphagia  \\\n",
       "0   40   Male       No        Yes                 No      Yes         No   \n",
       "1   58   Male       No         No                 No      Yes         No   \n",
       "2   41   Male      Yes         No                 No      Yes        Yes   \n",
       "3   45   Male       No         No                Yes      Yes        Yes   \n",
       "4   60   Male      Yes        Yes                Yes      Yes        Yes   \n",
       "\n",
       "  Genital thrush visual blurring Itching Irritability delayed healing  \\\n",
       "0             No              No     Yes           No             Yes   \n",
       "1             No             Yes      No           No              No   \n",
       "2             No              No     Yes           No             Yes   \n",
       "3            Yes              No     Yes           No             Yes   \n",
       "4             No             Yes     Yes          Yes             Yes   \n",
       "\n",
       "  partial paresis muscle stiffness Alopecia Obesity     class  \n",
       "0              No              Yes      Yes     Yes  Positive  \n",
       "1             Yes               No      Yes      No  Positive  \n",
       "2              No              Yes      Yes      No  Positive  \n",
       "3              No               No       No      No  Positive  \n",
       "4             Yes              Yes      Yes     Yes  Positive  "
      ]
     },
     "execution_count": 3,
     "metadata": {},
     "output_type": "execute_result"
    }
   ],
   "source": [
    "df.head()"
   ]
  },
  {
   "cell_type": "code",
   "execution_count": 4,
   "metadata": {},
   "outputs": [
    {
     "name": "stdout",
     "output_type": "stream",
     "text": [
      "<class 'pandas.core.frame.DataFrame'>\n",
      "RangeIndex: 520 entries, 0 to 519\n",
      "Data columns (total 17 columns):\n",
      " #   Column              Non-Null Count  Dtype \n",
      "---  ------              --------------  ----- \n",
      " 0   Age                 520 non-null    int64 \n",
      " 1   Gender              520 non-null    object\n",
      " 2   Polyuria            520 non-null    object\n",
      " 3   Polydipsia          520 non-null    object\n",
      " 4   sudden weight loss  520 non-null    object\n",
      " 5   weakness            520 non-null    object\n",
      " 6   Polyphagia          520 non-null    object\n",
      " 7   Genital thrush      520 non-null    object\n",
      " 8   visual blurring     520 non-null    object\n",
      " 9   Itching             520 non-null    object\n",
      " 10  Irritability        520 non-null    object\n",
      " 11  delayed healing     520 non-null    object\n",
      " 12  partial paresis     520 non-null    object\n",
      " 13  muscle stiffness    520 non-null    object\n",
      " 14  Alopecia            520 non-null    object\n",
      " 15  Obesity             520 non-null    object\n",
      " 16  class               520 non-null    object\n",
      "dtypes: int64(1), object(16)\n",
      "memory usage: 69.2+ KB\n"
     ]
    }
   ],
   "source": [
    "df.info()"
   ]
  },
  {
   "cell_type": "markdown",
   "metadata": {},
   "source": [
    "Let's take closer look at our data. First we'll find out if we have the same amount of male and female patients."
   ]
  },
  {
   "cell_type": "code",
   "execution_count": 5,
   "metadata": {},
   "outputs": [
    {
     "data": {
      "text/plain": [
       "Male      328\n",
       "Female    192\n",
       "Name: Gender, dtype: int64"
      ]
     },
     "execution_count": 5,
     "metadata": {},
     "output_type": "execute_result"
    }
   ],
   "source": [
    "df['Gender'].value_counts()"
   ]
  },
  {
   "cell_type": "code",
   "execution_count": 6,
   "metadata": {},
   "outputs": [
    {
     "data": {
      "image/png": "[encoded data removed]",
      "text/plain": [
       "<Figure size 432x288 with 1 Axes>"
      ]
     },
     "metadata": {
      "needs_background": "light"
     },
     "output_type": "display_data"
    }
   ],
   "source": [
    "plt.hist(df['Gender'], bins=10)\n",
    "plt.xlabel('Gender')\n",
    "plt.ylabel('Counts')\n",
    "plt.show();"
   ]
  },
  {
   "cell_type": "markdown",
   "metadata": {},
   "source": [
    "As we can see, there are 328 males and 192 females. Now let's take a look at the patients' age."
   ]
  },
  {
   "cell_type": "code",
   "execution_count": 7,
   "metadata": {},
   "outputs": [],
   "source": [
    "df_age = df['Age']"
   ]
  },
  {
   "cell_type": "code",
   "execution_count": 8,
   "metadata": {},
   "outputs": [
    {
     "data": {
      "text/plain": [
       "count    520.000000\n",
       "mean      48.028846\n",
       "std       12.151466\n",
       "min       16.000000\n",
       "25%       39.000000\n",
       "50%       47.500000\n",
       "75%       57.000000\n",
       "max       90.000000\n",
       "Name: Age, dtype: float64"
      ]
     },
     "execution_count": 8,
     "metadata": {},
     "output_type": "execute_result"
    }
   ],
   "source": [
    "df_age.describe()"
   ]
  },
  {
   "cell_type": "code",
   "execution_count": 9,
   "metadata": {},
   "outputs": [
    {
     "data": {
      "image/png": "[encoded data removed]",
      "text/plain": [
       "<Figure size 432x288 with 1 Axes>"
      ]
     },
     "metadata": {
      "needs_background": "light"
     },
     "output_type": "display_data"
    }
   ],
   "source": [
    "plt.hist(df_age, bins=10)\n",
    "plt.xlabel('Age')\n",
    "plt.ylabel('Count')\n",
    "plt.grid()\n",
    "plt.show;"
   ]
  },
  {
   "cell_type": "markdown",
   "metadata": {},
   "source": [
    "We can see that the data is normally distributed. The mean age of our patients is 48 years old with the standard deviation of approximately 12 years. The youngest patiens is 16 years old and the oldest one is 90 years old.\n",
    "\n",
    "Now let's take a look which gender has more positive cases and what it the percentage of positive cases for each gender."
   ]
  },
  {
   "cell_type": "code",
   "execution_count": 10,
   "metadata": {},
   "outputs": [
    {
     "data": {
      "text/plain": [
       "Positive    320\n",
       "Negative    200\n",
       "Name: class, dtype: int64"
      ]
     },
     "execution_count": 10,
     "metadata": {},
     "output_type": "execute_result"
    }
   ],
   "source": [
    "df_gender = df[['Gender', 'class']]\n",
    "df_gender['class'].value_counts()"
   ]
  },
  {
   "cell_type": "code",
   "execution_count": 11,
   "metadata": {},
   "outputs": [
    {
     "name": "stdout",
     "output_type": "stream",
     "text": [
      "61.53846153846154\n"
     ]
    }
   ],
   "source": [
    "class_pos = df[df['class'] == 'Positive']\n",
    "prop_pos = (len(class_pos) / len(df))*100\n",
    "print(prop_pos)"
   ]
  },
  {
   "cell_type": "code",
   "execution_count": 12,
   "metadata": {},
   "outputs": [
    {
     "data": {
      "image/png": "[encoded data removed]",
      "text/plain": [
       "<Figure size 432x288 with 1 Axes>"
      ]
     },
     "metadata": {
      "needs_background": "light"
     },
     "output_type": "display_data"
    }
   ],
   "source": [
    "plt.hist(df_gender['class'], bins=10)\n",
    "plt.xlabel('Cases')\n",
    "plt.ylabel('Count')\n",
    "plt.grid()\n",
    "plt.show;"
   ]
  },
  {
   "cell_type": "markdown",
   "metadata": {},
   "source": [
    "#### Overall, we have 520 cases, 320 of which are positive and 200 are negative. Percent of positive cases is 61.5%, negative - 38.5%."
   ]
  },
  {
   "cell_type": "code",
   "execution_count": 13,
   "metadata": {},
   "outputs": [],
   "source": [
    "df_male = df_gender[df_gender['Gender'] == 'Male']\n",
    "df_female = df_gender[df_gender['Gender'] == 'Female']"
   ]
  },
  {
   "cell_type": "code",
   "execution_count": 14,
   "metadata": {},
   "outputs": [
    {
     "data": {
      "text/plain": [
       "Male    328\n",
       "Name: Gender, dtype: int64"
      ]
     },
     "execution_count": 14,
     "metadata": {},
     "output_type": "execute_result"
    }
   ],
   "source": [
    "df_male['Gender'].value_counts()"
   ]
  },
  {
   "cell_type": "code",
   "execution_count": 15,
   "metadata": {},
   "outputs": [
    {
     "data": {
      "text/plain": [
       "Negative    181\n",
       "Positive    147\n",
       "Name: class, dtype: int64"
      ]
     },
     "execution_count": 15,
     "metadata": {},
     "output_type": "execute_result"
    }
   ],
   "source": [
    "df_male['class'].value_counts()"
   ]
  },
  {
   "cell_type": "code",
   "execution_count": 16,
   "metadata": {},
   "outputs": [
    {
     "name": "stdout",
     "output_type": "stream",
     "text": [
      "44.81707317073171\n"
     ]
    }
   ],
   "source": [
    "df_male_pos = df_male[df_male['class'] == 'Positive']\n",
    "df_male_neg = df_male[df_male['class'] == 'Negative']\n",
    "df_male_pos_prop = len(df_male_pos)/len(df_male)\n",
    "df_male_pos_perc = df_male_pos_prop * 100\n",
    "print(df_male_pos_perc)"
   ]
  },
  {
   "cell_type": "code",
   "execution_count": 17,
   "metadata": {},
   "outputs": [
    {
     "data": {
      "image/png": "[encoded data removed]",
      "text/plain": [
       "<Figure size 1080x360 with 1 Axes>"
      ]
     },
     "metadata": {
      "needs_background": "light"
     },
     "output_type": "display_data"
    }
   ],
   "source": [
    "plt.figure(figsize=[15, 5])\n",
    "plt.hist(df_male['class'], bins=10)\n",
    "plt.xlabel('Class (males)')\n",
    "plt.ylabel('Count')\n",
    "plt.grid()\n",
    "plt.show();"
   ]
  },
  {
   "cell_type": "markdown",
   "metadata": {},
   "source": [
    "We can see, that 147 out of 328 males (approximately 44.8%) in the dataset were classified as 'Positive'. Since we only have two classes, we can assume that aproximately 55.2% of males were classified as 'Negative'.\n",
    "\n",
    "Now let's find out the percentage for females. "
   ]
  },
  {
   "cell_type": "code",
   "execution_count": 18,
   "metadata": {},
   "outputs": [
    {
     "data": {
      "text/plain": [
       "Positive    173\n",
       "Negative     19\n",
       "Name: class, dtype: int64"
      ]
     },
     "execution_count": 18,
     "metadata": {},
     "output_type": "execute_result"
    }
   ],
   "source": [
    "df_female['class'].value_counts()"
   ]
  },
  {
   "cell_type": "code",
   "execution_count": 19,
   "metadata": {},
   "outputs": [
    {
     "data": {
      "text/plain": [
       "Female    192\n",
       "Name: Gender, dtype: int64"
      ]
     },
     "execution_count": 19,
     "metadata": {},
     "output_type": "execute_result"
    }
   ],
   "source": [
    "df_female['Gender'].value_counts()"
   ]
  },
  {
   "cell_type": "code",
   "execution_count": 20,
   "metadata": {},
   "outputs": [
    {
     "name": "stdout",
     "output_type": "stream",
     "text": [
      "90.10416666666666\n"
     ]
    }
   ],
   "source": [
    "df_female_pos = df_female[df_female['class'] == 'Positive']\n",
    "df_female_pos_prop = len(df_female_pos)/len(df_female)\n",
    "df_female_pos_perc = df_female_pos_prop * 100\n",
    "print(df_female_pos_perc)"
   ]
  },
  {
   "cell_type": "code",
   "execution_count": 21,
   "metadata": {},
   "outputs": [
    {
     "data": {
      "image/png": "[encoded data removed]",
      "text/plain": [
       "<Figure size 1080x360 with 1 Axes>"
      ]
     },
     "metadata": {
      "needs_background": "light"
     },
     "output_type": "display_data"
    }
   ],
   "source": [
    "plt.figure(figsize=[15, 5])\n",
    "plt.hist(df_female['class'], bins=10)\n",
    "plt.xlabel('Class (females)')\n",
    "plt.ylabel('Count')\n",
    "plt.grid()\n",
    "plt.show();"
   ]
  },
  {
   "cell_type": "markdown",
   "metadata": {},
   "source": [
    "As we can see, 173 out of 192 females (approximately 90.1%) in the dataset were classified as 'Positive'. Since we only have two classes, we can assume that approximately 9.9% of females were classified as 'Negative'. The data is heavily skewed towards 'Positive' class and is highly unbalanced.\n",
    "\n",
    "Let's take a look at our original dataset once again."
   ]
  },
  {
   "cell_type": "code",
   "execution_count": 22,
   "metadata": {},
   "outputs": [
    {
     "data": {
      "text/html": [
       "<div>\n",
       "<style scoped>\n",
       "    .dataframe tbody tr th:only-of-type {\n",
       "        vertical-align: middle;\n",
       "    }\n",
       "\n",
       "    .dataframe tbody tr th {\n",
       "        vertical-align: top;\n",
       "    }\n",
       "\n",
       "    .dataframe thead th {\n",
       "        text-align: right;\n",
       "    }\n",
       "</style>\n",
       "<table border=\"1\" class=\"dataframe\">\n",
       "  <thead>\n",
       "    <tr style=\"text-align: right;\">\n",
       "      <th></th>\n",
       "      <th>Age</th>\n",
       "      <th>Gender</th>\n",
       "      <th>Polyuria</th>\n",
       "      <th>Polydipsia</th>\n",
       "      <th>sudden weight loss</th>\n",
       "      <th>weakness</th>\n",
       "      <th>Polyphagia</th>\n",
       "      <th>Genital thrush</th>\n",
       "      <th>visual blurring</th>\n",
       "      <th>Itching</th>\n",
       "      <th>Irritability</th>\n",
       "      <th>delayed healing</th>\n",
       "      <th>partial paresis</th>\n",
       "      <th>muscle stiffness</th>\n",
       "      <th>Alopecia</th>\n",
       "      <th>Obesity</th>\n",
       "      <th>class</th>\n",
       "    </tr>\n",
       "  </thead>\n",
       "  <tbody>\n",
       "    <tr>\n",
       "      <th>0</th>\n",
       "      <td>40</td>\n",
       "      <td>Male</td>\n",
       "      <td>No</td>\n",
       "      <td>Yes</td>\n",
       "      <td>No</td>\n",
       "      <td>Yes</td>\n",
       "      <td>No</td>\n",
       "      <td>No</td>\n",
       "      <td>No</td>\n",
       "      <td>Yes</td>\n",
       "      <td>No</td>\n",
       "      <td>Yes</td>\n",
       "      <td>No</td>\n",
       "      <td>Yes</td>\n",
       "      <td>Yes</td>\n",
       "      <td>Yes</td>\n",
       "      <td>Positive</td>\n",
       "    </tr>\n",
       "    <tr>\n",
       "      <th>1</th>\n",
       "      <td>58</td>\n",
       "      <td>Male</td>\n",
       "      <td>No</td>\n",
       "      <td>No</td>\n",
       "      <td>No</td>\n",
       "      <td>Yes</td>\n",
       "      <td>No</td>\n",
       "      <td>No</td>\n",
       "      <td>Yes</td>\n",
       "      <td>No</td>\n",
       "      <td>No</td>\n",
       "      <td>No</td>\n",
       "      <td>Yes</td>\n",
       "      <td>No</td>\n",
       "      <td>Yes</td>\n",
       "      <td>No</td>\n",
       "      <td>Positive</td>\n",
       "    </tr>\n",
       "    <tr>\n",
       "      <th>2</th>\n",
       "      <td>41</td>\n",
       "      <td>Male</td>\n",
       "      <td>Yes</td>\n",
       "      <td>No</td>\n",
       "      <td>No</td>\n",
       "      <td>Yes</td>\n",
       "      <td>Yes</td>\n",
       "      <td>No</td>\n",
       "      <td>No</td>\n",
       "      <td>Yes</td>\n",
       "      <td>No</td>\n",
       "      <td>Yes</td>\n",
       "      <td>No</td>\n",
       "      <td>Yes</td>\n",
       "      <td>Yes</td>\n",
       "      <td>No</td>\n",
       "      <td>Positive</td>\n",
       "    </tr>\n",
       "    <tr>\n",
       "      <th>3</th>\n",
       "      <td>45</td>\n",
       "      <td>Male</td>\n",
       "      <td>No</td>\n",
       "      <td>No</td>\n",
       "      <td>Yes</td>\n",
       "      <td>Yes</td>\n",
       "      <td>Yes</td>\n",
       "      <td>Yes</td>\n",
       "      <td>No</td>\n",
       "      <td>Yes</td>\n",
       "      <td>No</td>\n",
       "      <td>Yes</td>\n",
       "      <td>No</td>\n",
       "      <td>No</td>\n",
       "      <td>No</td>\n",
       "      <td>No</td>\n",
       "      <td>Positive</td>\n",
       "    </tr>\n",
       "    <tr>\n",
       "      <th>4</th>\n",
       "      <td>60</td>\n",
       "      <td>Male</td>\n",
       "      <td>Yes</td>\n",
       "      <td>Yes</td>\n",
       "      <td>Yes</td>\n",
       "      <td>Yes</td>\n",
       "      <td>Yes</td>\n",
       "      <td>No</td>\n",
       "      <td>Yes</td>\n",
       "      <td>Yes</td>\n",
       "      <td>Yes</td>\n",
       "      <td>Yes</td>\n",
       "      <td>Yes</td>\n",
       "      <td>Yes</td>\n",
       "      <td>Yes</td>\n",
       "      <td>Yes</td>\n",
       "      <td>Positive</td>\n",
       "    </tr>\n",
       "  </tbody>\n",
       "</table>\n",
       "</div>"
      ],
      "text/plain": [
       "   Age Gender Polyuria Polydipsia sudden weight loss weakness Polyphagia  \\\n",
       "0   40   Male       No        Yes                 No      Yes         No   \n",
       "1   58   Male       No         No                 No      Yes         No   \n",
       "2   41   Male      Yes         No                 No      Yes        Yes   \n",
       "3   45   Male       No         No                Yes      Yes        Yes   \n",
       "4   60   Male      Yes        Yes                Yes      Yes        Yes   \n",
       "\n",
       "  Genital thrush visual blurring Itching Irritability delayed healing  \\\n",
       "0             No              No     Yes           No             Yes   \n",
       "1             No             Yes      No           No              No   \n",
       "2             No              No     Yes           No             Yes   \n",
       "3            Yes              No     Yes           No             Yes   \n",
       "4             No             Yes     Yes          Yes             Yes   \n",
       "\n",
       "  partial paresis muscle stiffness Alopecia Obesity     class  \n",
       "0              No              Yes      Yes     Yes  Positive  \n",
       "1             Yes               No      Yes      No  Positive  \n",
       "2              No              Yes      Yes      No  Positive  \n",
       "3              No               No       No      No  Positive  \n",
       "4             Yes              Yes      Yes     Yes  Positive  "
      ]
     },
     "execution_count": 22,
     "metadata": {},
     "output_type": "execute_result"
    }
   ],
   "source": [
    "df.head()"
   ]
  },
  {
   "cell_type": "markdown",
   "metadata": {},
   "source": [
    "We only have one numeric column in the dataset - 'Age'. All other columns are categorical values which we need to encode in order to perform future exploratory analysis and modeling. Let's check if those categorical variables are binary."
   ]
  },
  {
   "cell_type": "code",
   "execution_count": 23,
   "metadata": {},
   "outputs": [],
   "source": [
    "df_enc = df"
   ]
  },
  {
   "cell_type": "code",
   "execution_count": 24,
   "metadata": {},
   "outputs": [],
   "source": [
    "#numerical column\n",
    "num_col = df_enc['Age']"
   ]
  },
  {
   "cell_type": "code",
   "execution_count": 25,
   "metadata": {},
   "outputs": [],
   "source": [
    "#categorical columns\n",
    "cat_cols = df_enc.columns.drop('Age')"
   ]
  },
  {
   "cell_type": "code",
   "execution_count": 26,
   "metadata": {},
   "outputs": [
    {
     "data": {
      "text/plain": [
       "Gender                2\n",
       "Polyuria              2\n",
       "Polydipsia            2\n",
       "sudden weight loss    2\n",
       "weakness              2\n",
       "Polyphagia            2\n",
       "Genital thrush        2\n",
       "visual blurring       2\n",
       "Itching               2\n",
       "Irritability          2\n",
       "delayed healing       2\n",
       "partial paresis       2\n",
       "muscle stiffness      2\n",
       "Alopecia              2\n",
       "Obesity               2\n",
       "class                 2\n",
       "dtype: int64"
      ]
     },
     "execution_count": 26,
     "metadata": {},
     "output_type": "execute_result"
    }
   ],
   "source": [
    "#see how many unique values for each feature\n",
    "df_enc[cat_cols].apply(lambda x: x.nunique(), axis=0)"
   ]
  },
  {
   "cell_type": "markdown",
   "metadata": {},
   "source": [
    "It seems like all our categorical columns have two unique values. For all columns except 'Gender' and 'class' those values are strings 'Yes' and 'No', for 'Gender' column - strings 'Male' and 'Female' and for 'class' column - strings 'Positive' and 'Negative'. Since all of the values are binary, we can encode them using pandas .map() function. In order to keep our data from increasing dimensionality we will not use pandas.get_dummies()"
   ]
  },
  {
   "cell_type": "code",
   "execution_count": 27,
   "metadata": {},
   "outputs": [],
   "source": [
    "df_enc['Gender'] = df_enc['Gender'].map({'Female':1, 'Male':0})"
   ]
  },
  {
   "cell_type": "code",
   "execution_count": 28,
   "metadata": {},
   "outputs": [],
   "source": [
    "for column in df_enc.columns:\n",
    "    if column == 'Age':\n",
    "        continue\n",
    "    elif column == 'Gender':\n",
    "        continue\n",
    "    else:\n",
    "        df_enc[column] = df_enc[column].map({'No':0, 'Yes':1, 'Negative':0, 'Positive':1})"
   ]
  },
  {
   "cell_type": "code",
   "execution_count": 29,
   "metadata": {},
   "outputs": [
    {
     "data": {
      "text/html": [
       "<div>\n",
       "<style scoped>\n",
       "    .dataframe tbody tr th:only-of-type {\n",
       "        vertical-align: middle;\n",
       "    }\n",
       "\n",
       "    .dataframe tbody tr th {\n",
       "        vertical-align: top;\n",
       "    }\n",
       "\n",
       "    .dataframe thead th {\n",
       "        text-align: right;\n",
       "    }\n",
       "</style>\n",
       "<table border=\"1\" class=\"dataframe\">\n",
       "  <thead>\n",
       "    <tr style=\"text-align: right;\">\n",
       "      <th></th>\n",
       "      <th>Age</th>\n",
       "      <th>Gender</th>\n",
       "      <th>Polyuria</th>\n",
       "      <th>Polydipsia</th>\n",
       "      <th>sudden weight loss</th>\n",
       "      <th>weakness</th>\n",
       "      <th>Polyphagia</th>\n",
       "      <th>Genital thrush</th>\n",
       "      <th>visual blurring</th>\n",
       "      <th>Itching</th>\n",
       "      <th>Irritability</th>\n",
       "      <th>delayed healing</th>\n",
       "      <th>partial paresis</th>\n",
       "      <th>muscle stiffness</th>\n",
       "      <th>Alopecia</th>\n",
       "      <th>Obesity</th>\n",
       "      <th>class</th>\n",
       "    </tr>\n",
       "  </thead>\n",
       "  <tbody>\n",
       "    <tr>\n",
       "      <th>0</th>\n",
       "      <td>40</td>\n",
       "      <td>0</td>\n",
       "      <td>0</td>\n",
       "      <td>1</td>\n",
       "      <td>0</td>\n",
       "      <td>1</td>\n",
       "      <td>0</td>\n",
       "      <td>0</td>\n",
       "      <td>0</td>\n",
       "      <td>1</td>\n",
       "      <td>0</td>\n",
       "      <td>1</td>\n",
       "      <td>0</td>\n",
       "      <td>1</td>\n",
       "      <td>1</td>\n",
       "      <td>1</td>\n",
       "      <td>1</td>\n",
       "    </tr>\n",
       "    <tr>\n",
       "      <th>1</th>\n",
       "      <td>58</td>\n",
       "      <td>0</td>\n",
       "      <td>0</td>\n",
       "      <td>0</td>\n",
       "      <td>0</td>\n",
       "      <td>1</td>\n",
       "      <td>0</td>\n",
       "      <td>0</td>\n",
       "      <td>1</td>\n",
       "      <td>0</td>\n",
       "      <td>0</td>\n",
       "      <td>0</td>\n",
       "      <td>1</td>\n",
       "      <td>0</td>\n",
       "      <td>1</td>\n",
       "      <td>0</td>\n",
       "      <td>1</td>\n",
       "    </tr>\n",
       "    <tr>\n",
       "      <th>2</th>\n",
       "      <td>41</td>\n",
       "      <td>0</td>\n",
       "      <td>1</td>\n",
       "      <td>0</td>\n",
       "      <td>0</td>\n",
       "      <td>1</td>\n",
       "      <td>1</td>\n",
       "      <td>0</td>\n",
       "      <td>0</td>\n",
       "      <td>1</td>\n",
       "      <td>0</td>\n",
       "      <td>1</td>\n",
       "      <td>0</td>\n",
       "      <td>1</td>\n",
       "      <td>1</td>\n",
       "      <td>0</td>\n",
       "      <td>1</td>\n",
       "    </tr>\n",
       "    <tr>\n",
       "      <th>3</th>\n",
       "      <td>45</td>\n",
       "      <td>0</td>\n",
       "      <td>0</td>\n",
       "      <td>0</td>\n",
       "      <td>1</td>\n",
       "      <td>1</td>\n",
       "      <td>1</td>\n",
       "      <td>1</td>\n",
       "      <td>0</td>\n",
       "      <td>1</td>\n",
       "      <td>0</td>\n",
       "      <td>1</td>\n",
       "      <td>0</td>\n",
       "      <td>0</td>\n",
       "      <td>0</td>\n",
       "      <td>0</td>\n",
       "      <td>1</td>\n",
       "    </tr>\n",
       "    <tr>\n",
       "      <th>4</th>\n",
       "      <td>60</td>\n",
       "      <td>0</td>\n",
       "      <td>1</td>\n",
       "      <td>1</td>\n",
       "      <td>1</td>\n",
       "      <td>1</td>\n",
       "      <td>1</td>\n",
       "      <td>0</td>\n",
       "      <td>1</td>\n",
       "      <td>1</td>\n",
       "      <td>1</td>\n",
       "      <td>1</td>\n",
       "      <td>1</td>\n",
       "      <td>1</td>\n",
       "      <td>1</td>\n",
       "      <td>1</td>\n",
       "      <td>1</td>\n",
       "    </tr>\n",
       "  </tbody>\n",
       "</table>\n",
       "</div>"
      ],
      "text/plain": [
       "   Age  Gender  Polyuria  Polydipsia  sudden weight loss  weakness  \\\n",
       "0   40       0         0           1                   0         1   \n",
       "1   58       0         0           0                   0         1   \n",
       "2   41       0         1           0                   0         1   \n",
       "3   45       0         0           0                   1         1   \n",
       "4   60       0         1           1                   1         1   \n",
       "\n",
       "   Polyphagia  Genital thrush  visual blurring  Itching  Irritability  \\\n",
       "0           0               0                0        1             0   \n",
       "1           0               0                1        0             0   \n",
       "2           1               0                0        1             0   \n",
       "3           1               1                0        1             0   \n",
       "4           1               0                1        1             1   \n",
       "\n",
       "   delayed healing  partial paresis  muscle stiffness  Alopecia  Obesity  \\\n",
       "0                1                0                 1         1        1   \n",
       "1                0                1                 0         1        0   \n",
       "2                1                0                 1         1        0   \n",
       "3                1                0                 0         0        0   \n",
       "4                1                1                 1         1        1   \n",
       "\n",
       "   class  \n",
       "0      1  \n",
       "1      1  \n",
       "2      1  \n",
       "3      1  \n",
       "4      1  "
      ]
     },
     "execution_count": 29,
     "metadata": {},
     "output_type": "execute_result"
    }
   ],
   "source": [
    "df_enc.head()"
   ]
  },
  {
   "cell_type": "markdown",
   "metadata": {},
   "source": [
    "The list of encoding labels and values: Male - 0, Female - 1, No - 0, Yes - 1, Negative - 0, Positive - 1.\n",
    "\n",
    "Now let's see how different features are correlated to each other using seaborn heatmap."
   ]
  },
  {
   "cell_type": "code",
   "execution_count": 30,
   "metadata": {},
   "outputs": [
    {
     "data": {
      "image/png": "[encoded data removed]",
      "text/plain": [
       "<Figure size 1080x504 with 2 Axes>"
      ]
     },
     "metadata": {
      "needs_background": "light"
     },
     "output_type": "display_data"
    }
   ],
   "source": [
    "corr = df_enc.corr()\n",
    "plt.figure(figsize=[15, 7])\n",
    "sns.heatmap(corr);"
   ]
  },
  {
   "cell_type": "markdown",
   "metadata": {},
   "source": [
    "Let's take a look at the heatmap. We are interested in how our target feature ('class') is correlated with other features (which are a patient's charachteristics).\n",
    "From the map we can derive that the highest correlation is with 'Polyuria' (production of abnormally large volumes of dilute urine) and 'Polydipsia' (abnormally great thirst as a symptom of disease). It is also correlated with 'Gender' (we saw that percentage of women with positive class in the dataset is 90.1% against 44.8% of men), 'sudden weight loss', and 'partial paresis'(a condition of muscular weakness caused by nerve damage or disease)."
   ]
  },
  {
   "cell_type": "markdown",
   "metadata": {},
   "source": [
    "Now let's look at the numbers. Here is a table with pairwise correlation of each feature."
   ]
  },
  {
   "cell_type": "code",
   "execution_count": 31,
   "metadata": {},
   "outputs": [
    {
     "data": {
      "text/html": [
       "<div>\n",
       "<style scoped>\n",
       "    .dataframe tbody tr th:only-of-type {\n",
       "        vertical-align: middle;\n",
       "    }\n",
       "\n",
       "    .dataframe tbody tr th {\n",
       "        vertical-align: top;\n",
       "    }\n",
       "\n",
       "    .dataframe thead th {\n",
       "        text-align: right;\n",
       "    }\n",
       "</style>\n",
       "<table border=\"1\" class=\"dataframe\">\n",
       "  <thead>\n",
       "    <tr style=\"text-align: right;\">\n",
       "      <th></th>\n",
       "      <th>Age</th>\n",
       "      <th>Gender</th>\n",
       "      <th>Polyuria</th>\n",
       "      <th>Polydipsia</th>\n",
       "      <th>sudden weight loss</th>\n",
       "      <th>weakness</th>\n",
       "      <th>Polyphagia</th>\n",
       "      <th>Genital thrush</th>\n",
       "      <th>visual blurring</th>\n",
       "      <th>Itching</th>\n",
       "      <th>Irritability</th>\n",
       "      <th>delayed healing</th>\n",
       "      <th>partial paresis</th>\n",
       "      <th>muscle stiffness</th>\n",
       "      <th>Alopecia</th>\n",
       "      <th>Obesity</th>\n",
       "      <th>class</th>\n",
       "    </tr>\n",
       "  </thead>\n",
       "  <tbody>\n",
       "    <tr>\n",
       "      <th>Age</th>\n",
       "      <td>1.000000</td>\n",
       "      <td>-0.062872</td>\n",
       "      <td>0.199781</td>\n",
       "      <td>0.137382</td>\n",
       "      <td>0.064808</td>\n",
       "      <td>0.224596</td>\n",
       "      <td>0.315577</td>\n",
       "      <td>0.096519</td>\n",
       "      <td>0.402729</td>\n",
       "      <td>0.296559</td>\n",
       "      <td>0.201625</td>\n",
       "      <td>0.257501</td>\n",
       "      <td>0.232742</td>\n",
       "      <td>0.307703</td>\n",
       "      <td>0.321691</td>\n",
       "      <td>0.140458</td>\n",
       "      <td>0.108679</td>\n",
       "    </tr>\n",
       "    <tr>\n",
       "      <th>Gender</th>\n",
       "      <td>-0.062872</td>\n",
       "      <td>1.000000</td>\n",
       "      <td>0.268894</td>\n",
       "      <td>0.312262</td>\n",
       "      <td>0.281840</td>\n",
       "      <td>0.124490</td>\n",
       "      <td>0.219968</td>\n",
       "      <td>-0.208961</td>\n",
       "      <td>0.208092</td>\n",
       "      <td>0.052496</td>\n",
       "      <td>0.013735</td>\n",
       "      <td>0.101978</td>\n",
       "      <td>0.332288</td>\n",
       "      <td>0.090542</td>\n",
       "      <td>-0.327871</td>\n",
       "      <td>0.005396</td>\n",
       "      <td>0.449233</td>\n",
       "    </tr>\n",
       "    <tr>\n",
       "      <th>Polyuria</th>\n",
       "      <td>0.199781</td>\n",
       "      <td>0.268894</td>\n",
       "      <td>1.000000</td>\n",
       "      <td>0.598609</td>\n",
       "      <td>0.447207</td>\n",
       "      <td>0.263000</td>\n",
       "      <td>0.373873</td>\n",
       "      <td>0.087273</td>\n",
       "      <td>0.235095</td>\n",
       "      <td>0.088289</td>\n",
       "      <td>0.237740</td>\n",
       "      <td>0.149873</td>\n",
       "      <td>0.441664</td>\n",
       "      <td>0.152938</td>\n",
       "      <td>-0.144192</td>\n",
       "      <td>0.126567</td>\n",
       "      <td>0.665922</td>\n",
       "    </tr>\n",
       "    <tr>\n",
       "      <th>Polydipsia</th>\n",
       "      <td>0.137382</td>\n",
       "      <td>0.312262</td>\n",
       "      <td>0.598609</td>\n",
       "      <td>1.000000</td>\n",
       "      <td>0.405965</td>\n",
       "      <td>0.332453</td>\n",
       "      <td>0.316839</td>\n",
       "      <td>0.028081</td>\n",
       "      <td>0.331250</td>\n",
       "      <td>0.128716</td>\n",
       "      <td>0.203446</td>\n",
       "      <td>0.115691</td>\n",
       "      <td>0.442249</td>\n",
       "      <td>0.180723</td>\n",
       "      <td>-0.310964</td>\n",
       "      <td>0.098691</td>\n",
       "      <td>0.648734</td>\n",
       "    </tr>\n",
       "    <tr>\n",
       "      <th>sudden weight loss</th>\n",
       "      <td>0.064808</td>\n",
       "      <td>0.281840</td>\n",
       "      <td>0.447207</td>\n",
       "      <td>0.405965</td>\n",
       "      <td>1.000000</td>\n",
       "      <td>0.282884</td>\n",
       "      <td>0.243511</td>\n",
       "      <td>0.089858</td>\n",
       "      <td>0.068754</td>\n",
       "      <td>-0.004516</td>\n",
       "      <td>0.140340</td>\n",
       "      <td>0.088140</td>\n",
       "      <td>0.264014</td>\n",
       "      <td>0.109756</td>\n",
       "      <td>-0.202727</td>\n",
       "      <td>0.169294</td>\n",
       "      <td>0.436568</td>\n",
       "    </tr>\n",
       "    <tr>\n",
       "      <th>weakness</th>\n",
       "      <td>0.224596</td>\n",
       "      <td>0.124490</td>\n",
       "      <td>0.263000</td>\n",
       "      <td>0.332453</td>\n",
       "      <td>0.282884</td>\n",
       "      <td>1.000000</td>\n",
       "      <td>0.180266</td>\n",
       "      <td>0.027780</td>\n",
       "      <td>0.301043</td>\n",
       "      <td>0.309440</td>\n",
       "      <td>0.146698</td>\n",
       "      <td>0.335507</td>\n",
       "      <td>0.272982</td>\n",
       "      <td>0.263164</td>\n",
       "      <td>0.090490</td>\n",
       "      <td>0.045665</td>\n",
       "      <td>0.243275</td>\n",
       "    </tr>\n",
       "    <tr>\n",
       "      <th>Polyphagia</th>\n",
       "      <td>0.315577</td>\n",
       "      <td>0.219968</td>\n",
       "      <td>0.373873</td>\n",
       "      <td>0.316839</td>\n",
       "      <td>0.243511</td>\n",
       "      <td>0.180266</td>\n",
       "      <td>1.000000</td>\n",
       "      <td>-0.063712</td>\n",
       "      <td>0.293545</td>\n",
       "      <td>0.144390</td>\n",
       "      <td>0.239466</td>\n",
       "      <td>0.263980</td>\n",
       "      <td>0.373569</td>\n",
       "      <td>0.320031</td>\n",
       "      <td>-0.053498</td>\n",
       "      <td>0.029785</td>\n",
       "      <td>0.342504</td>\n",
       "    </tr>\n",
       "    <tr>\n",
       "      <th>Genital thrush</th>\n",
       "      <td>0.096519</td>\n",
       "      <td>-0.208961</td>\n",
       "      <td>0.087273</td>\n",
       "      <td>0.028081</td>\n",
       "      <td>0.089858</td>\n",
       "      <td>0.027780</td>\n",
       "      <td>-0.063712</td>\n",
       "      <td>1.000000</td>\n",
       "      <td>-0.148408</td>\n",
       "      <td>0.125336</td>\n",
       "      <td>0.160551</td>\n",
       "      <td>0.136111</td>\n",
       "      <td>-0.195612</td>\n",
       "      <td>-0.100188</td>\n",
       "      <td>0.204847</td>\n",
       "      <td>0.053828</td>\n",
       "      <td>0.110288</td>\n",
       "    </tr>\n",
       "    <tr>\n",
       "      <th>visual blurring</th>\n",
       "      <td>0.402729</td>\n",
       "      <td>0.208092</td>\n",
       "      <td>0.235095</td>\n",
       "      <td>0.331250</td>\n",
       "      <td>0.068754</td>\n",
       "      <td>0.301043</td>\n",
       "      <td>0.293545</td>\n",
       "      <td>-0.148408</td>\n",
       "      <td>1.000000</td>\n",
       "      <td>0.291191</td>\n",
       "      <td>0.077095</td>\n",
       "      <td>0.177767</td>\n",
       "      <td>0.364156</td>\n",
       "      <td>0.412369</td>\n",
       "      <td>0.014604</td>\n",
       "      <td>0.109005</td>\n",
       "      <td>0.251300</td>\n",
       "    </tr>\n",
       "    <tr>\n",
       "      <th>Itching</th>\n",
       "      <td>0.296559</td>\n",
       "      <td>0.052496</td>\n",
       "      <td>0.088289</td>\n",
       "      <td>0.128716</td>\n",
       "      <td>-0.004516</td>\n",
       "      <td>0.309440</td>\n",
       "      <td>0.144390</td>\n",
       "      <td>0.125336</td>\n",
       "      <td>0.291191</td>\n",
       "      <td>1.000000</td>\n",
       "      <td>0.114006</td>\n",
       "      <td>0.453316</td>\n",
       "      <td>0.116669</td>\n",
       "      <td>0.215575</td>\n",
       "      <td>0.266506</td>\n",
       "      <td>0.001894</td>\n",
       "      <td>-0.013384</td>\n",
       "    </tr>\n",
       "    <tr>\n",
       "      <th>Irritability</th>\n",
       "      <td>0.201625</td>\n",
       "      <td>0.013735</td>\n",
       "      <td>0.237740</td>\n",
       "      <td>0.203446</td>\n",
       "      <td>0.140340</td>\n",
       "      <td>0.146698</td>\n",
       "      <td>0.239466</td>\n",
       "      <td>0.160551</td>\n",
       "      <td>0.077095</td>\n",
       "      <td>0.114006</td>\n",
       "      <td>1.000000</td>\n",
       "      <td>0.126877</td>\n",
       "      <td>0.151571</td>\n",
       "      <td>0.201637</td>\n",
       "      <td>0.043708</td>\n",
       "      <td>0.127801</td>\n",
       "      <td>0.299467</td>\n",
       "    </tr>\n",
       "    <tr>\n",
       "      <th>delayed healing</th>\n",
       "      <td>0.257501</td>\n",
       "      <td>0.101978</td>\n",
       "      <td>0.149873</td>\n",
       "      <td>0.115691</td>\n",
       "      <td>0.088140</td>\n",
       "      <td>0.335507</td>\n",
       "      <td>0.263980</td>\n",
       "      <td>0.136111</td>\n",
       "      <td>0.177767</td>\n",
       "      <td>0.453316</td>\n",
       "      <td>0.126877</td>\n",
       "      <td>1.000000</td>\n",
       "      <td>0.187382</td>\n",
       "      <td>0.250078</td>\n",
       "      <td>0.290179</td>\n",
       "      <td>-0.066339</td>\n",
       "      <td>0.046980</td>\n",
       "    </tr>\n",
       "    <tr>\n",
       "      <th>partial paresis</th>\n",
       "      <td>0.232742</td>\n",
       "      <td>0.332288</td>\n",
       "      <td>0.441664</td>\n",
       "      <td>0.442249</td>\n",
       "      <td>0.264014</td>\n",
       "      <td>0.272982</td>\n",
       "      <td>0.373569</td>\n",
       "      <td>-0.195612</td>\n",
       "      <td>0.364156</td>\n",
       "      <td>0.116669</td>\n",
       "      <td>0.151571</td>\n",
       "      <td>0.187382</td>\n",
       "      <td>1.000000</td>\n",
       "      <td>0.232634</td>\n",
       "      <td>-0.221576</td>\n",
       "      <td>-0.009401</td>\n",
       "      <td>0.432288</td>\n",
       "    </tr>\n",
       "    <tr>\n",
       "      <th>muscle stiffness</th>\n",
       "      <td>0.307703</td>\n",
       "      <td>0.090542</td>\n",
       "      <td>0.152938</td>\n",
       "      <td>0.180723</td>\n",
       "      <td>0.109756</td>\n",
       "      <td>0.263164</td>\n",
       "      <td>0.320031</td>\n",
       "      <td>-0.100188</td>\n",
       "      <td>0.412369</td>\n",
       "      <td>0.215575</td>\n",
       "      <td>0.201637</td>\n",
       "      <td>0.250078</td>\n",
       "      <td>0.232634</td>\n",
       "      <td>1.000000</td>\n",
       "      <td>0.040758</td>\n",
       "      <td>0.158910</td>\n",
       "      <td>0.122474</td>\n",
       "    </tr>\n",
       "    <tr>\n",
       "      <th>Alopecia</th>\n",
       "      <td>0.321691</td>\n",
       "      <td>-0.327871</td>\n",
       "      <td>-0.144192</td>\n",
       "      <td>-0.310964</td>\n",
       "      <td>-0.202727</td>\n",
       "      <td>0.090490</td>\n",
       "      <td>-0.053498</td>\n",
       "      <td>0.204847</td>\n",
       "      <td>0.014604</td>\n",
       "      <td>0.266506</td>\n",
       "      <td>0.043708</td>\n",
       "      <td>0.290179</td>\n",
       "      <td>-0.221576</td>\n",
       "      <td>0.040758</td>\n",
       "      <td>1.000000</td>\n",
       "      <td>0.029229</td>\n",
       "      <td>-0.267512</td>\n",
       "    </tr>\n",
       "    <tr>\n",
       "      <th>Obesity</th>\n",
       "      <td>0.140458</td>\n",
       "      <td>0.005396</td>\n",
       "      <td>0.126567</td>\n",
       "      <td>0.098691</td>\n",
       "      <td>0.169294</td>\n",
       "      <td>0.045665</td>\n",
       "      <td>0.029785</td>\n",
       "      <td>0.053828</td>\n",
       "      <td>0.109005</td>\n",
       "      <td>0.001894</td>\n",
       "      <td>0.127801</td>\n",
       "      <td>-0.066339</td>\n",
       "      <td>-0.009401</td>\n",
       "      <td>0.158910</td>\n",
       "      <td>0.029229</td>\n",
       "      <td>1.000000</td>\n",
       "      <td>0.072173</td>\n",
       "    </tr>\n",
       "    <tr>\n",
       "      <th>class</th>\n",
       "      <td>0.108679</td>\n",
       "      <td>0.449233</td>\n",
       "      <td>0.665922</td>\n",
       "      <td>0.648734</td>\n",
       "      <td>0.436568</td>\n",
       "      <td>0.243275</td>\n",
       "      <td>0.342504</td>\n",
       "      <td>0.110288</td>\n",
       "      <td>0.251300</td>\n",
       "      <td>-0.013384</td>\n",
       "      <td>0.299467</td>\n",
       "      <td>0.046980</td>\n",
       "      <td>0.432288</td>\n",
       "      <td>0.122474</td>\n",
       "      <td>-0.267512</td>\n",
       "      <td>0.072173</td>\n",
       "      <td>1.000000</td>\n",
       "    </tr>\n",
       "  </tbody>\n",
       "</table>\n",
       "</div>"
      ],
      "text/plain": [
       "                         Age    Gender  Polyuria  Polydipsia  \\\n",
       "Age                 1.000000 -0.062872  0.199781    0.137382   \n",
       "Gender             -0.062872  1.000000  0.268894    0.312262   \n",
       "Polyuria            0.199781  0.268894  1.000000    0.598609   \n",
       "Polydipsia          0.137382  0.312262  0.598609    1.000000   \n",
       "sudden weight loss  0.064808  0.281840  0.447207    0.405965   \n",
       "weakness            0.224596  0.124490  0.263000    0.332453   \n",
       "Polyphagia          0.315577  0.219968  0.373873    0.316839   \n",
       "Genital thrush      0.096519 -0.208961  0.087273    0.028081   \n",
       "visual blurring     0.402729  0.208092  0.235095    0.331250   \n",
       "Itching             0.296559  0.052496  0.088289    0.128716   \n",
       "Irritability        0.201625  0.013735  0.237740    0.203446   \n",
       "delayed healing     0.257501  0.101978  0.149873    0.115691   \n",
       "partial paresis     0.232742  0.332288  0.441664    0.442249   \n",
       "muscle stiffness    0.307703  0.090542  0.152938    0.180723   \n",
       "Alopecia            0.321691 -0.327871 -0.144192   -0.310964   \n",
       "Obesity             0.140458  0.005396  0.126567    0.098691   \n",
       "class               0.108679  0.449233  0.665922    0.648734   \n",
       "\n",
       "                    sudden weight loss  weakness  Polyphagia  Genital thrush  \\\n",
       "Age                           0.064808  0.224596    0.315577        0.096519   \n",
       "Gender                        0.281840  0.124490    0.219968       -0.208961   \n",
       "Polyuria                      0.447207  0.263000    0.373873        0.087273   \n",
       "Polydipsia                    0.405965  0.332453    0.316839        0.028081   \n",
       "sudden weight loss            1.000000  0.282884    0.243511        0.089858   \n",
       "weakness                      0.282884  1.000000    0.180266        0.027780   \n",
       "Polyphagia                    0.243511  0.180266    1.000000       -0.063712   \n",
       "Genital thrush                0.089858  0.027780   -0.063712        1.000000   \n",
       "visual blurring               0.068754  0.301043    0.293545       -0.148408   \n",
       "Itching                      -0.004516  0.309440    0.144390        0.125336   \n",
       "Irritability                  0.140340  0.146698    0.239466        0.160551   \n",
       "delayed healing               0.088140  0.335507    0.263980        0.136111   \n",
       "partial paresis               0.264014  0.272982    0.373569       -0.195612   \n",
       "muscle stiffness              0.109756  0.263164    0.320031       -0.100188   \n",
       "Alopecia                     -0.202727  0.090490   -0.053498        0.204847   \n",
       "Obesity                       0.169294  0.045665    0.029785        0.053828   \n",
       "class                         0.436568  0.243275    0.342504        0.110288   \n",
       "\n",
       "                    visual blurring   Itching  Irritability  delayed healing  \\\n",
       "Age                        0.402729  0.296559      0.201625         0.257501   \n",
       "Gender                     0.208092  0.052496      0.013735         0.101978   \n",
       "Polyuria                   0.235095  0.088289      0.237740         0.149873   \n",
       "Polydipsia                 0.331250  0.128716      0.203446         0.115691   \n",
       "sudden weight loss         0.068754 -0.004516      0.140340         0.088140   \n",
       "weakness                   0.301043  0.309440      0.146698         0.335507   \n",
       "Polyphagia                 0.293545  0.144390      0.239466         0.263980   \n",
       "Genital thrush            -0.148408  0.125336      0.160551         0.136111   \n",
       "visual blurring            1.000000  0.291191      0.077095         0.177767   \n",
       "Itching                    0.291191  1.000000      0.114006         0.453316   \n",
       "Irritability               0.077095  0.114006      1.000000         0.126877   \n",
       "delayed healing            0.177767  0.453316      0.126877         1.000000   \n",
       "partial paresis            0.364156  0.116669      0.151571         0.187382   \n",
       "muscle stiffness           0.412369  0.215575      0.201637         0.250078   \n",
       "Alopecia                   0.014604  0.266506      0.043708         0.290179   \n",
       "Obesity                    0.109005  0.001894      0.127801        -0.066339   \n",
       "class                      0.251300 -0.013384      0.299467         0.046980   \n",
       "\n",
       "                    partial paresis  muscle stiffness  Alopecia   Obesity  \\\n",
       "Age                        0.232742          0.307703  0.321691  0.140458   \n",
       "Gender                     0.332288          0.090542 -0.327871  0.005396   \n",
       "Polyuria                   0.441664          0.152938 -0.144192  0.126567   \n",
       "Polydipsia                 0.442249          0.180723 -0.310964  0.098691   \n",
       "sudden weight loss         0.264014          0.109756 -0.202727  0.169294   \n",
       "weakness                   0.272982          0.263164  0.090490  0.045665   \n",
       "Polyphagia                 0.373569          0.320031 -0.053498  0.029785   \n",
       "Genital thrush            -0.195612         -0.100188  0.204847  0.053828   \n",
       "visual blurring            0.364156          0.412369  0.014604  0.109005   \n",
       "Itching                    0.116669          0.215575  0.266506  0.001894   \n",
       "Irritability               0.151571          0.201637  0.043708  0.127801   \n",
       "delayed healing            0.187382          0.250078  0.290179 -0.066339   \n",
       "partial paresis            1.000000          0.232634 -0.221576 -0.009401   \n",
       "muscle stiffness           0.232634          1.000000  0.040758  0.158910   \n",
       "Alopecia                  -0.221576          0.040758  1.000000  0.029229   \n",
       "Obesity                   -0.009401          0.158910  0.029229  1.000000   \n",
       "class                      0.432288          0.122474 -0.267512  0.072173   \n",
       "\n",
       "                       class  \n",
       "Age                 0.108679  \n",
       "Gender              0.449233  \n",
       "Polyuria            0.665922  \n",
       "Polydipsia          0.648734  \n",
       "sudden weight loss  0.436568  \n",
       "weakness            0.243275  \n",
       "Polyphagia          0.342504  \n",
       "Genital thrush      0.110288  \n",
       "visual blurring     0.251300  \n",
       "Itching            -0.013384  \n",
       "Irritability        0.299467  \n",
       "delayed healing     0.046980  \n",
       "partial paresis     0.432288  \n",
       "muscle stiffness    0.122474  \n",
       "Alopecia           -0.267512  \n",
       "Obesity             0.072173  \n",
       "class               1.000000  "
      ]
     },
     "execution_count": 31,
     "metadata": {},
     "output_type": "execute_result"
    }
   ],
   "source": [
    "corr"
   ]
  },
  {
   "cell_type": "markdown",
   "metadata": {},
   "source": [
    "We will only consider those features which have correlation coefficients above 'moderate' (0.40 - 0.59) and 'strong' (0.60-0.79) thresholds.\n",
    "We are paricularly interested in out target variable, so let's see how it looks."
   ]
  },
  {
   "cell_type": "code",
   "execution_count": 32,
   "metadata": {},
   "outputs": [
    {
     "data": {
      "text/plain": [
       "class                 1.000000\n",
       "Polyuria              0.665922\n",
       "Polydipsia            0.648734\n",
       "Gender                0.449233\n",
       "sudden weight loss    0.436568\n",
       "partial paresis       0.432288\n",
       "Polyphagia            0.342504\n",
       "Irritability          0.299467\n",
       "visual blurring       0.251300\n",
       "weakness              0.243275\n",
       "muscle stiffness      0.122474\n",
       "Genital thrush        0.110288\n",
       "Age                   0.108679\n",
       "Obesity               0.072173\n",
       "delayed healing       0.046980\n",
       "Itching              -0.013384\n",
       "Alopecia             -0.267512\n",
       "Name: class, dtype: float64"
      ]
     },
     "execution_count": 32,
     "metadata": {},
     "output_type": "execute_result"
    }
   ],
   "source": [
    "corr['class'].sort_values(ascending=False)"
   ]
  },
  {
   "cell_type": "markdown",
   "metadata": {},
   "source": [
    "As it is clear from the table we only have two features whose correlation with the target can be considered 'strong'. Those are 'Polyuria' (0.67) and 'Polydipsia (0.65). The features with 'moderate' correlation are 'Gender' (0.45), 'Sudden Weight Loss' (0.44) and 'Partial Paresis' (0.43). Surprisingly enough, 'Age' does not seem to be a significant factor with the coefficient of only 0.11. Our target is also very weakly correlated with 'Obesity', which a lot of people think would be one of the primary causes of diabetes. It is also negatively correlated with 'Alopecia' - a condition that causes hair to fall out in small patches.\n",
    "Let's create a dataframe for above mentioned important features and see how they are correlated with each other."
   ]
  },
  {
   "cell_type": "code",
   "execution_count": 33,
   "metadata": {},
   "outputs": [],
   "source": [
    "# features = pd.DataFrame(corr['class'].sort_values(ascending=False))\n",
    "# features_list = features.index.to_list()\n",
    "# for feature in features_list:\n",
    "#    display(corr[feature].sort_values(ascending=False))"
   ]
  },
  {
   "cell_type": "code",
   "execution_count": 34,
   "metadata": {},
   "outputs": [
    {
     "data": {
      "text/html": [
       "<div>\n",
       "<style scoped>\n",
       "    .dataframe tbody tr th:only-of-type {\n",
       "        vertical-align: middle;\n",
       "    }\n",
       "\n",
       "    .dataframe tbody tr th {\n",
       "        vertical-align: top;\n",
       "    }\n",
       "\n",
       "    .dataframe thead th {\n",
       "        text-align: right;\n",
       "    }\n",
       "</style>\n",
       "<table border=\"1\" class=\"dataframe\">\n",
       "  <thead>\n",
       "    <tr style=\"text-align: right;\">\n",
       "      <th></th>\n",
       "      <th>Polyuria</th>\n",
       "      <th>Polydipsia</th>\n",
       "      <th>Gender</th>\n",
       "      <th>sudden weight loss</th>\n",
       "      <th>partial paresis</th>\n",
       "      <th>class</th>\n",
       "    </tr>\n",
       "  </thead>\n",
       "  <tbody>\n",
       "    <tr>\n",
       "      <th>0</th>\n",
       "      <td>0</td>\n",
       "      <td>1</td>\n",
       "      <td>0</td>\n",
       "      <td>0</td>\n",
       "      <td>0</td>\n",
       "      <td>1</td>\n",
       "    </tr>\n",
       "    <tr>\n",
       "      <th>1</th>\n",
       "      <td>0</td>\n",
       "      <td>0</td>\n",
       "      <td>0</td>\n",
       "      <td>0</td>\n",
       "      <td>1</td>\n",
       "      <td>1</td>\n",
       "    </tr>\n",
       "    <tr>\n",
       "      <th>2</th>\n",
       "      <td>1</td>\n",
       "      <td>0</td>\n",
       "      <td>0</td>\n",
       "      <td>0</td>\n",
       "      <td>0</td>\n",
       "      <td>1</td>\n",
       "    </tr>\n",
       "    <tr>\n",
       "      <th>3</th>\n",
       "      <td>0</td>\n",
       "      <td>0</td>\n",
       "      <td>0</td>\n",
       "      <td>1</td>\n",
       "      <td>0</td>\n",
       "      <td>1</td>\n",
       "    </tr>\n",
       "    <tr>\n",
       "      <th>4</th>\n",
       "      <td>1</td>\n",
       "      <td>1</td>\n",
       "      <td>0</td>\n",
       "      <td>1</td>\n",
       "      <td>1</td>\n",
       "      <td>1</td>\n",
       "    </tr>\n",
       "  </tbody>\n",
       "</table>\n",
       "</div>"
      ],
      "text/plain": [
       "   Polyuria  Polydipsia  Gender  sudden weight loss  partial paresis  class\n",
       "0         0           1       0                   0                0      1\n",
       "1         0           0       0                   0                1      1\n",
       "2         1           0       0                   0                0      1\n",
       "3         0           0       0                   1                0      1\n",
       "4         1           1       0                   1                1      1"
      ]
     },
     "execution_count": 34,
     "metadata": {},
     "output_type": "execute_result"
    }
   ],
   "source": [
    "imp_feat = df_enc[['Polyuria', 'Polydipsia', 'Gender', 'sudden weight loss', 'partial paresis', 'class']]\n",
    "imp_feat.head()"
   ]
  },
  {
   "cell_type": "markdown",
   "metadata": {},
   "source": [
    "Now let's take a look only at those features which correlation coeffitient with a target is above 0.4 and see how they are correlated with each other. If we will find independent variables which are highly correlated it might imply that feature collinearity takes place."
   ]
  },
  {
   "cell_type": "code",
   "execution_count": 35,
   "metadata": {},
   "outputs": [],
   "source": [
    "corr_imp = imp_feat.corr()"
   ]
  },
  {
   "cell_type": "code",
   "execution_count": 36,
   "metadata": {},
   "outputs": [
    {
     "data": {
      "image/png": "[encoded data removed]",
      "text/plain": [
       "<Figure size 720x720 with 2 Axes>"
      ]
     },
     "metadata": {
      "needs_background": "light"
     },
     "output_type": "display_data"
    }
   ],
   "source": [
    "top_corr_features = corr_imp.index\n",
    "plt.figure(figsize=(10,10))\n",
    "g=sns.heatmap(df_enc[top_corr_features].corr(),annot=True,cmap=\"RdYlGn\")"
   ]
  },
  {
   "cell_type": "markdown",
   "metadata": {},
   "source": [
    "As we can see, among these features we don't have those which are higly correlated with each other. We can assume that there is no feature collinearity in our dataset and it will not affect our future model's performance. Let's convert the correlation matrix to the dataframe and save it for later use."
   ]
  },
  {
   "cell_type": "code",
   "execution_count": 37,
   "metadata": {},
   "outputs": [],
   "source": [
    "corr_imp_df = pd.DataFrame(corr_imp)"
   ]
  },
  {
   "cell_type": "code",
   "execution_count": 38,
   "metadata": {},
   "outputs": [
    {
     "data": {
      "text/html": [
       "<div>\n",
       "<style scoped>\n",
       "    .dataframe tbody tr th:only-of-type {\n",
       "        vertical-align: middle;\n",
       "    }\n",
       "\n",
       "    .dataframe tbody tr th {\n",
       "        vertical-align: top;\n",
       "    }\n",
       "\n",
       "    .dataframe thead th {\n",
       "        text-align: right;\n",
       "    }\n",
       "</style>\n",
       "<table border=\"1\" class=\"dataframe\">\n",
       "  <thead>\n",
       "    <tr style=\"text-align: right;\">\n",
       "      <th></th>\n",
       "      <th>Polyuria</th>\n",
       "      <th>Polydipsia</th>\n",
       "      <th>Gender</th>\n",
       "      <th>sudden weight loss</th>\n",
       "      <th>partial paresis</th>\n",
       "      <th>class</th>\n",
       "    </tr>\n",
       "  </thead>\n",
       "  <tbody>\n",
       "    <tr>\n",
       "      <th>Polyuria</th>\n",
       "      <td>1.000000</td>\n",
       "      <td>0.598609</td>\n",
       "      <td>0.268894</td>\n",
       "      <td>0.447207</td>\n",
       "      <td>0.441664</td>\n",
       "      <td>0.665922</td>\n",
       "    </tr>\n",
       "    <tr>\n",
       "      <th>Polydipsia</th>\n",
       "      <td>0.598609</td>\n",
       "      <td>1.000000</td>\n",
       "      <td>0.312262</td>\n",
       "      <td>0.405965</td>\n",
       "      <td>0.442249</td>\n",
       "      <td>0.648734</td>\n",
       "    </tr>\n",
       "    <tr>\n",
       "      <th>Gender</th>\n",
       "      <td>0.268894</td>\n",
       "      <td>0.312262</td>\n",
       "      <td>1.000000</td>\n",
       "      <td>0.281840</td>\n",
       "      <td>0.332288</td>\n",
       "      <td>0.449233</td>\n",
       "    </tr>\n",
       "    <tr>\n",
       "      <th>sudden weight loss</th>\n",
       "      <td>0.447207</td>\n",
       "      <td>0.405965</td>\n",
       "      <td>0.281840</td>\n",
       "      <td>1.000000</td>\n",
       "      <td>0.264014</td>\n",
       "      <td>0.436568</td>\n",
       "    </tr>\n",
       "    <tr>\n",
       "      <th>partial paresis</th>\n",
       "      <td>0.441664</td>\n",
       "      <td>0.442249</td>\n",
       "      <td>0.332288</td>\n",
       "      <td>0.264014</td>\n",
       "      <td>1.000000</td>\n",
       "      <td>0.432288</td>\n",
       "    </tr>\n",
       "    <tr>\n",
       "      <th>class</th>\n",
       "      <td>0.665922</td>\n",
       "      <td>0.648734</td>\n",
       "      <td>0.449233</td>\n",
       "      <td>0.436568</td>\n",
       "      <td>0.432288</td>\n",
       "      <td>1.000000</td>\n",
       "    </tr>\n",
       "  </tbody>\n",
       "</table>\n",
       "</div>"
      ],
      "text/plain": [
       "                    Polyuria  Polydipsia    Gender  sudden weight loss  \\\n",
       "Polyuria            1.000000    0.598609  0.268894            0.447207   \n",
       "Polydipsia          0.598609    1.000000  0.312262            0.405965   \n",
       "Gender              0.268894    0.312262  1.000000            0.281840   \n",
       "sudden weight loss  0.447207    0.405965  0.281840            1.000000   \n",
       "partial paresis     0.441664    0.442249  0.332288            0.264014   \n",
       "class               0.665922    0.648734  0.449233            0.436568   \n",
       "\n",
       "                    partial paresis     class  \n",
       "Polyuria                   0.441664  0.665922  \n",
       "Polydipsia                 0.442249  0.648734  \n",
       "Gender                     0.332288  0.449233  \n",
       "sudden weight loss         0.264014  0.436568  \n",
       "partial paresis            1.000000  0.432288  \n",
       "class                      0.432288  1.000000  "
      ]
     },
     "execution_count": 38,
     "metadata": {},
     "output_type": "execute_result"
    }
   ],
   "source": [
    "corr_imp_df"
   ]
  },
  {
   "cell_type": "markdown",
   "metadata": {},
   "source": [
    "Now let's find top-5 feature-to-target and feature-to-feature correlations. We already know that 'Polyuria' and 'Polydipsia' are correlated the most with the target, but let's check if it's true one more time."
   ]
  },
  {
   "cell_type": "code",
   "execution_count": 39,
   "metadata": {},
   "outputs": [],
   "source": [
    "f_to_t = (corr_imp_df.where(np.triu(np.ones(corr_imp_df.shape), k=1).astype(np.bool)).stack().sort_values(ascending=False))"
   ]
  },
  {
   "cell_type": "code",
   "execution_count": 40,
   "metadata": {},
   "outputs": [
    {
     "name": "stdout",
     "output_type": "stream",
     "text": [
      "Polyuria    class                 0.665922\n",
      "Polydipsia  class                 0.648734\n",
      "Polyuria    Polydipsia            0.598609\n",
      "Gender      class                 0.449233\n",
      "Polyuria    sudden weight loss    0.447207\n",
      "dtype: float64\n"
     ]
    }
   ],
   "source": [
    "print(f_to_t[:5])"
   ]
  },
  {
   "cell_type": "markdown",
   "metadata": {},
   "source": [
    "As we expected, those two features are indeed the most correlated with target. Now, let's find out what features are the most correlated with each other. In order to do it we will drop our target feature from the correlation matrix."
   ]
  },
  {
   "cell_type": "code",
   "execution_count": 41,
   "metadata": {},
   "outputs": [],
   "source": [
    "corr_imp_df_nt = corr_imp_df.drop('class', axis=1)\n",
    "f_to_f = (corr_imp_df_nt.where(np.triu(np.ones(corr_imp_df_nt.shape), k=1).astype(np.bool)).stack().sort_values(ascending=False))"
   ]
  },
  {
   "cell_type": "code",
   "execution_count": 42,
   "metadata": {},
   "outputs": [
    {
     "name": "stdout",
     "output_type": "stream",
     "text": [
      "Polyuria    Polydipsia            0.598609\n",
      "            sudden weight loss    0.447207\n",
      "Polydipsia  partial paresis       0.442249\n",
      "Polyuria    partial paresis       0.441664\n",
      "Polydipsia  sudden weight loss    0.405965\n",
      "dtype: float64\n"
     ]
    }
   ],
   "source": [
    "print(f_to_f[:5])"
   ]
  },
  {
   "cell_type": "markdown",
   "metadata": {},
   "source": [
    "Two features that have the highest intercorrelation are 'Polyuria' to 'Polydipsia' (correlation 0.60) and 'Polyuria' to 'partial paresis' (0.45). Now let's convert the series to dataframes and save them as pickle files."
   ]
  },
  {
   "cell_type": "code",
   "execution_count": 43,
   "metadata": {},
   "outputs": [],
   "source": [
    "f_to_t_df = pd.DataFrame(f_to_t[:5])\n",
    "f_to_f_df = pd.DataFrame(f_to_f[:5])"
   ]
  },
  {
   "cell_type": "code",
   "execution_count": 44,
   "metadata": {},
   "outputs": [],
   "source": [
    "corrpath = '../Correlations'\n",
    "if not os.path.exists(corrpath):\n",
    "    os.mkdir(corrpath)\n",
    "diabetes_ftot_df_path = os.path.join(corrpath, 'Feature-to-Target.pkl')\n",
    "if not os.path.exists(diabetes_ftot_df_path):\n",
    "    with open(diabetes_ftot_df_path, 'wb') as ft:\n",
    "        pickle.dump(f_to_t_df, ft)\n",
    "diabetes_ftof_df_path = os.path.join(corrpath, 'Feature-to-Feature.pkl')\n",
    "if not os.path.exists(diabetes_ftof_df_path):\n",
    "    with open(diabetes_ftof_df_path, 'wb') as ff:\n",
    "        pickle.dump(f_to_f_df, ff)"
   ]
  },
  {
   "cell_type": "markdown",
   "metadata": {},
   "source": [
    "And now let's built a pairplot in order to see the visual representation of our features' interrelationships."
   ]
  },
  {
   "cell_type": "code",
   "execution_count": 45,
   "metadata": {},
   "outputs": [
    {
     "data": {
      "image/png": "[encoded data removed]",
      "text/plain": [
       "<Figure size 1080x1080 with 42 Axes>"
      ]
     },
     "metadata": {
      "needs_background": "light"
     },
     "output_type": "display_data"
    }
   ],
   "source": [
    "sns.pairplot(corr_imp_df);"
   ]
  },
  {
   "cell_type": "code",
   "execution_count": 46,
   "metadata": {},
   "outputs": [],
   "source": [
    "#saving the notebook and dataset\n",
    "datapath = 'D://Tutorials/SDST/My Projects/Capstone2/EDA'\n",
    "df_enc.to_csv('df_enc', index=False)"
   ]
  },
  {
   "cell_type": "markdown",
   "metadata": {},
   "source": [
    "## Exploratory Data Analysis summary\n",
    "\n",
    "Summarizing results of the EDA we can conclude that our dataset is imbalanced - there are 320 positive cases (61.5%) and 200 negative cases (38.5%). The distribution of patients age is approximately normal with mean age of 48 and standard deviation of 12.2. The youngest patient is 16 and the oldest patient is 90 years old. There are 328 male patients and 192 female patients. Percent of male patients classified as 'Positive' is approximately 44.8% (147 out of 328) and percent of female patients classified as 'Positive' is approximately 90.1% (173 out of 192). Features that are 'strongly' and 'moderately' correlated to the target are (from stongest to weakest correlation) 'Polyuria', 'Polydipsia', 'Gender', 'sudden weight loss' and 'partial paresis'."
   ]
  }
 ],
 "metadata": {
  "kernelspec": {
   "display_name": "Python 3",
   "language": "python",
   "name": "python3"
  },
  "language_info": {
   "codemirror_mode": {
    "name": "ipython",
    "version": 3
   },
   "file_extension": ".py",
   "mimetype": "text/x-python",
   "name": "python",
   "nbconvert_exporter": "python",
   "pygments_lexer": "ipython3",
   "version": "3.7.9"
  }
 },
 "nbformat": 4,
 "nbformat_minor": 4
}
