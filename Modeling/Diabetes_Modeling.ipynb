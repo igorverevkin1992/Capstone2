{
 "cells": [
  {
   "cell_type": "markdown",
   "metadata": {},
   "source": [
    "# Capstone 2 Modeling\n",
    "\n",
    "In this notebook we will perform modeling step of the data science method. The goal of this step is to develop a final model that effectively predicts our patients' class - 'positive'(1) or 'negative'(0). In the previous step we have already built two models - LogisticRegressionCassifier (which was out baseline model) and RandomForestClassifier. We assesed the performance of each of these models first without tuning and than with hyperparameter tuning using GridSearchCV for LogisticRegression and RandomizedSearchCV for RandomForest and obtained results using classification report. We noticed, that both models performed better with hyperparameter tuning, and RandomForest showed significantly better results in precision, recall and f1-score than LogisticRegression. We also saved our train_test_split as well as both our models as pickle files.\n",
    "\n",
    "In this step we will built two other models - GradientBoostingClassifier and AdaBoostClassifer, use hyperparameter tuning in order to enhance their performance and compare their results with the results of two above mentioned models that we built durint preprocessing and trainin data development step. \n",
    "\n",
    "We will use standard metrics in order to asses our classification models performance - accuracy score, precision, recall and f1-score."
   ]
  },
  {
   "cell_type": "code",
   "execution_count": 1,
   "metadata": {},
   "outputs": [],
   "source": [
    "import pandas as pd\n",
    "import numpy as np\n",
    "import matplotlib.pyplot as plt\n",
    "import seaborn as sns\n",
    "from sklearn import preprocessing\n",
    "from sklearn import svm\n",
    "from sklearn.preprocessing import StandardScaler\n",
    "from sklearn.tree import DecisionTreeClassifier\n",
    "from sklearn.linear_model import LogisticRegression\n",
    "from sklearn.metrics import accuracy_score, classification_report, roc_curve, auc, roc_auc_score\n",
    "from sklearn.model_selection import train_test_split, cross_validate, GridSearchCV, RandomizedSearchCV, KFold, cross_val_score\n",
    "from sklearn.ensemble import RandomForestClassifier, GradientBoostingClassifier, AdaBoostClassifier\n",
    "import os\n",
    "import pickle"
   ]
  },
  {
   "cell_type": "markdown",
   "metadata": {},
   "source": [
    "Now let's load our encoded dataset, train_test_split and two models - RandomForest and LogisticRegression - that we built on preprocessing and training data development step."
   ]
  },
  {
   "cell_type": "code",
   "execution_count": 2,
   "metadata": {},
   "outputs": [],
   "source": [
    "df = pd.read_csv('../EDA/Diabetes_EDA.csv')"
   ]
  },
  {
   "cell_type": "code",
   "execution_count": 3,
   "metadata": {
    "scrolled": true
   },
   "outputs": [
    {
     "data": {
      "text/html": [
       "<div>\n",
       "<style scoped>\n",
       "    .dataframe tbody tr th:only-of-type {\n",
       "        vertical-align: middle;\n",
       "    }\n",
       "\n",
       "    .dataframe tbody tr th {\n",
       "        vertical-align: top;\n",
       "    }\n",
       "\n",
       "    .dataframe thead th {\n",
       "        text-align: right;\n",
       "    }\n",
       "</style>\n",
       "<table border=\"1\" class=\"dataframe\">\n",
       "  <thead>\n",
       "    <tr style=\"text-align: right;\">\n",
       "      <th></th>\n",
       "      <th>Age</th>\n",
       "      <th>Gender</th>\n",
       "      <th>Polyuria</th>\n",
       "      <th>Polydipsia</th>\n",
       "      <th>sudden weight loss</th>\n",
       "      <th>weakness</th>\n",
       "      <th>Polyphagia</th>\n",
       "      <th>Genital thrush</th>\n",
       "      <th>visual blurring</th>\n",
       "      <th>Itching</th>\n",
       "      <th>Irritability</th>\n",
       "      <th>delayed healing</th>\n",
       "      <th>partial paresis</th>\n",
       "      <th>muscle stiffness</th>\n",
       "      <th>Alopecia</th>\n",
       "      <th>Obesity</th>\n",
       "      <th>class</th>\n",
       "    </tr>\n",
       "  </thead>\n",
       "  <tbody>\n",
       "    <tr>\n",
       "      <th>0</th>\n",
       "      <td>40</td>\n",
       "      <td>0</td>\n",
       "      <td>0</td>\n",
       "      <td>1</td>\n",
       "      <td>0</td>\n",
       "      <td>1</td>\n",
       "      <td>0</td>\n",
       "      <td>0</td>\n",
       "      <td>0</td>\n",
       "      <td>1</td>\n",
       "      <td>0</td>\n",
       "      <td>1</td>\n",
       "      <td>0</td>\n",
       "      <td>1</td>\n",
       "      <td>1</td>\n",
       "      <td>1</td>\n",
       "      <td>1</td>\n",
       "    </tr>\n",
       "    <tr>\n",
       "      <th>1</th>\n",
       "      <td>58</td>\n",
       "      <td>0</td>\n",
       "      <td>0</td>\n",
       "      <td>0</td>\n",
       "      <td>0</td>\n",
       "      <td>1</td>\n",
       "      <td>0</td>\n",
       "      <td>0</td>\n",
       "      <td>1</td>\n",
       "      <td>0</td>\n",
       "      <td>0</td>\n",
       "      <td>0</td>\n",
       "      <td>1</td>\n",
       "      <td>0</td>\n",
       "      <td>1</td>\n",
       "      <td>0</td>\n",
       "      <td>1</td>\n",
       "    </tr>\n",
       "    <tr>\n",
       "      <th>2</th>\n",
       "      <td>41</td>\n",
       "      <td>0</td>\n",
       "      <td>1</td>\n",
       "      <td>0</td>\n",
       "      <td>0</td>\n",
       "      <td>1</td>\n",
       "      <td>1</td>\n",
       "      <td>0</td>\n",
       "      <td>0</td>\n",
       "      <td>1</td>\n",
       "      <td>0</td>\n",
       "      <td>1</td>\n",
       "      <td>0</td>\n",
       "      <td>1</td>\n",
       "      <td>1</td>\n",
       "      <td>0</td>\n",
       "      <td>1</td>\n",
       "    </tr>\n",
       "    <tr>\n",
       "      <th>3</th>\n",
       "      <td>45</td>\n",
       "      <td>0</td>\n",
       "      <td>0</td>\n",
       "      <td>0</td>\n",
       "      <td>1</td>\n",
       "      <td>1</td>\n",
       "      <td>1</td>\n",
       "      <td>1</td>\n",
       "      <td>0</td>\n",
       "      <td>1</td>\n",
       "      <td>0</td>\n",
       "      <td>1</td>\n",
       "      <td>0</td>\n",
       "      <td>0</td>\n",
       "      <td>0</td>\n",
       "      <td>0</td>\n",
       "      <td>1</td>\n",
       "    </tr>\n",
       "    <tr>\n",
       "      <th>4</th>\n",
       "      <td>60</td>\n",
       "      <td>0</td>\n",
       "      <td>1</td>\n",
       "      <td>1</td>\n",
       "      <td>1</td>\n",
       "      <td>1</td>\n",
       "      <td>1</td>\n",
       "      <td>0</td>\n",
       "      <td>1</td>\n",
       "      <td>1</td>\n",
       "      <td>1</td>\n",
       "      <td>1</td>\n",
       "      <td>1</td>\n",
       "      <td>1</td>\n",
       "      <td>1</td>\n",
       "      <td>1</td>\n",
       "      <td>1</td>\n",
       "    </tr>\n",
       "  </tbody>\n",
       "</table>\n",
       "</div>"
      ],
      "text/plain": [
       "   Age  Gender  Polyuria  Polydipsia  sudden weight loss  weakness  \\\n",
       "0   40       0         0           1                   0         1   \n",
       "1   58       0         0           0                   0         1   \n",
       "2   41       0         1           0                   0         1   \n",
       "3   45       0         0           0                   1         1   \n",
       "4   60       0         1           1                   1         1   \n",
       "\n",
       "   Polyphagia  Genital thrush  visual blurring  Itching  Irritability  \\\n",
       "0           0               0                0        1             0   \n",
       "1           0               0                1        0             0   \n",
       "2           1               0                0        1             0   \n",
       "3           1               1                0        1             0   \n",
       "4           1               0                1        1             1   \n",
       "\n",
       "   delayed healing  partial paresis  muscle stiffness  Alopecia  Obesity  \\\n",
       "0                1                0                 1         1        1   \n",
       "1                0                1                 0         1        0   \n",
       "2                1                0                 1         1        0   \n",
       "3                1                0                 0         0        0   \n",
       "4                1                1                 1         1        1   \n",
       "\n",
       "   class  \n",
       "0      1  \n",
       "1      1  \n",
       "2      1  \n",
       "3      1  \n",
       "4      1  "
      ]
     },
     "execution_count": 3,
     "metadata": {},
     "output_type": "execute_result"
    }
   ],
   "source": [
    "df.head()"
   ]
  },
  {
   "cell_type": "code",
   "execution_count": 4,
   "metadata": {},
   "outputs": [],
   "source": [
    "#loading train_test_split\n",
    "with open('../Splits/Train_Test_Split.pkl', 'rb') as tts_pickle:\n",
    "    tts = pickle.load(tts_pickle)\n",
    "#loading RandomForestClassifier\n",
    "with open('../Models/Diabetes_RandFor.pkl', 'rb') as rfc_pickle:\n",
    "    rfc = pickle.load(rfc_pickle)\n",
    "#loading LogisticRegression\n",
    "with open('../Models/Diabetes_LogReg.pkl', 'rb') as lr_pickle:\n",
    "    lr = pickle.load(lr_pickle)"
   ]
  },
  {
   "cell_type": "code",
   "execution_count": 5,
   "metadata": {},
   "outputs": [],
   "source": [
    "X_train, X_test, y_train, y_test = tts"
   ]
  },
  {
   "cell_type": "code",
   "execution_count": 6,
   "metadata": {},
   "outputs": [],
   "source": [
    "#scaling\n",
    "scaler = StandardScaler()\n",
    "X_train_norm = pd.DataFrame(scaler.fit_transform(X_train), columns=X_train.columns)\n",
    "X_test_norm = pd.DataFrame(scaler.transform(X_test), columns=X_test.columns)"
   ]
  },
  {
   "cell_type": "code",
   "execution_count": 7,
   "metadata": {},
   "outputs": [
    {
     "data": {
      "text/plain": [
       "RandomForestClassifier(max_depth=340, max_features='sqrt', n_estimators=600,\n",
       "                       oob_score=True)"
      ]
     },
     "execution_count": 7,
     "metadata": {},
     "output_type": "execute_result"
    }
   ],
   "source": [
    "rfc"
   ]
  },
  {
   "cell_type": "code",
   "execution_count": 8,
   "metadata": {},
   "outputs": [
    {
     "data": {
      "text/plain": [
       "LogisticRegression(random_state=42)"
      ]
     },
     "execution_count": 8,
     "metadata": {},
     "output_type": "execute_result"
    }
   ],
   "source": [
    "lr"
   ]
  },
  {
   "cell_type": "code",
   "execution_count": 9,
   "metadata": {},
   "outputs": [],
   "source": [
    "rfc_ypred = rfc.predict(X_test_norm)\n",
    "lr_ypred = lr.predict(X_test_norm)"
   ]
  },
  {
   "cell_type": "markdown",
   "metadata": {},
   "source": [
    "Let's see classification reports for each of these models."
   ]
  },
  {
   "cell_type": "code",
   "execution_count": 10,
   "metadata": {},
   "outputs": [
    {
     "name": "stdout",
     "output_type": "stream",
     "text": [
      "====== RANDOM FOREST CLASSIFICATION REPORT =====\n",
      "              precision    recall  f1-score   support\n",
      "\n",
      "           0       0.97      0.97      0.97        40\n",
      "           1       0.98      0.98      0.98        64\n",
      "\n",
      "    accuracy                           0.98       104\n",
      "   macro avg       0.98      0.98      0.98       104\n",
      "weighted avg       0.98      0.98      0.98       104\n",
      "\n"
     ]
    }
   ],
   "source": [
    "print('====== RANDOM FOREST CLASSIFICATION REPORT =====')\n",
    "print(classification_report(y_test, rfc_ypred))"
   ]
  },
  {
   "cell_type": "code",
   "execution_count": 11,
   "metadata": {},
   "outputs": [
    {
     "name": "stdout",
     "output_type": "stream",
     "text": [
      "====== LOGISTIC REGRESSION CLASSIFICATION REPORT =====\n",
      "              precision    recall  f1-score   support\n",
      "\n",
      "           0       0.89      0.97      0.93        40\n",
      "           1       0.98      0.92      0.95        64\n",
      "\n",
      "    accuracy                           0.94       104\n",
      "   macro avg       0.93      0.95      0.94       104\n",
      "weighted avg       0.95      0.94      0.94       104\n",
      "\n"
     ]
    }
   ],
   "source": [
    "print('====== LOGISTIC REGRESSION CLASSIFICATION REPORT =====')\n",
    "print(classification_report(y_test, lr_ypred))"
   ]
  },
  {
   "cell_type": "markdown",
   "metadata": {},
   "source": [
    "As we know from the previous step, our RandomForestClassifier showed significantly better results than LogisticRegression model. Now we will build two more models. We will start with GradientBoostingClassifier."
   ]
  },
  {
   "cell_type": "markdown",
   "metadata": {},
   "source": [
    "Let's initialize our model, fit it to the training set and see how it performs. We will not use any hyperparameter tuning now."
   ]
  },
  {
   "cell_type": "code",
   "execution_count": 12,
   "metadata": {},
   "outputs": [],
   "source": [
    "gbc = GradientBoostingClassifier(random_state=42)\n",
    "gbc.fit(X_train_norm, y_train)\n",
    "gbc_ypred = gbc.predict(X_test_norm)"
   ]
  },
  {
   "cell_type": "code",
   "execution_count": 13,
   "metadata": {},
   "outputs": [
    {
     "name": "stdout",
     "output_type": "stream",
     "text": [
      "===== GBC ACCURACY SCORE =====\n",
      "0.9903846153846154\n",
      "===== GBC CLASSIFICATION REPORT =====\n",
      "              precision    recall  f1-score   support\n",
      "\n",
      "           0       0.98      1.00      0.99        40\n",
      "           1       1.00      0.98      0.99        64\n",
      "\n",
      "    accuracy                           0.99       104\n",
      "   macro avg       0.99      0.99      0.99       104\n",
      "weighted avg       0.99      0.99      0.99       104\n",
      "\n"
     ]
    }
   ],
   "source": [
    "print('===== GBC ACCURACY SCORE =====')\n",
    "print(accuracy_score(y_test, gbc_ypred))\n",
    "print('===== GBC CLASSIFICATION REPORT =====')\n",
    "print(classification_report(y_test, gbc_ypred))"
   ]
  },
  {
   "cell_type": "markdown",
   "metadata": {},
   "source": [
    "We can conclude that even generic model with no hyperparameters tuning is able to generalize on new data and show great results. However, we will still perform parameters tuning just for the sake of comparing models performance."
   ]
  },
  {
   "cell_type": "code",
   "execution_count": 14,
   "metadata": {},
   "outputs": [
    {
     "data": {
      "text/plain": [
       "dict_keys(['ccp_alpha', 'criterion', 'init', 'learning_rate', 'loss', 'max_depth', 'max_features', 'max_leaf_nodes', 'min_impurity_decrease', 'min_impurity_split', 'min_samples_leaf', 'min_samples_split', 'min_weight_fraction_leaf', 'n_estimators', 'n_iter_no_change', 'presort', 'random_state', 'subsample', 'tol', 'validation_fraction', 'verbose', 'warm_start'])"
      ]
     },
     "execution_count": 14,
     "metadata": {},
     "output_type": "execute_result"
    }
   ],
   "source": [
    "gbc.get_params().keys()"
   ]
  },
  {
   "cell_type": "markdown",
   "metadata": {},
   "source": [
    "As we can see, GradientBoostingClassifier's parameters are very similar to RandomForestClassifier parameters. For our goal we are mostly interested in n_estimators, learning_rate, max_features and max_depth."
   ]
  },
  {
   "cell_type": "code",
   "execution_count": 15,
   "metadata": {},
   "outputs": [],
   "source": [
    "#number of trees\n",
    "n_estimators = [int(i) for i in np.linspace(200, 2000, 10)]\n",
    "\n",
    "#learning rates\n",
    "learning_rate = [0.05, 0.1, 0.25, 0.5, 0.75, 1]\n",
    "\n",
    "#number of features for each split\n",
    "max_features = ['auto', 'sqrt']\n",
    "\n",
    "#maximal depth\n",
    "max_depth = [int(i) for i in np.linspace(100, 500, 11)]\n",
    "\n",
    "#parameters grid\n",
    "param_grid = {'n_estimators':n_estimators, 'learning_rate':learning_rate, 'max_features':max_features, 'max_depth':max_depth}"
   ]
  },
  {
   "cell_type": "code",
   "execution_count": 16,
   "metadata": {},
   "outputs": [],
   "source": [
    "# gbc_rand = RandomizedSearchCV(estimator=gbc, param_distributions=param_grid, n_iter=100, cv=5, random_state=42, n_jobs=-1)\n",
    "# gbc_rand.fit(X_train_norm, y_train)"
   ]
  },
  {
   "cell_type": "code",
   "execution_count": 17,
   "metadata": {},
   "outputs": [],
   "source": [
    "# print(gbc_rand.best_params_)"
   ]
  },
  {
   "cell_type": "markdown",
   "metadata": {},
   "source": [
    "We obtained the best parameters for our GradientBoostingClassifier. Now let's plug those parameters into our model and asses its performance."
   ]
  },
  {
   "cell_type": "code",
   "execution_count": 18,
   "metadata": {},
   "outputs": [],
   "source": [
    "gbc_params = GradientBoostingClassifier(n_estimators=200, learning_rate = 0.05, max_features='sqrt', max_depth = 500, random_state = 42)\n",
    "gbc_params.fit(X_train_norm, y_train)\n",
    "gbc_params_ypred = gbc_params.predict(X_test_norm)"
   ]
  },
  {
   "cell_type": "code",
   "execution_count": 19,
   "metadata": {
    "scrolled": true
   },
   "outputs": [
    {
     "name": "stdout",
     "output_type": "stream",
     "text": [
      "===== GBC_PARAMS TEST SET ACCURACY SCORE =====\n",
      "0.9903846153846154\n",
      "===== GBC_PARAMS TEST SET CLASSIFICATION REPORT =====\n",
      "              precision    recall  f1-score   support\n",
      "\n",
      "           0       1.00      0.97      0.99        40\n",
      "           1       0.98      1.00      0.99        64\n",
      "\n",
      "    accuracy                           0.99       104\n",
      "   macro avg       0.99      0.99      0.99       104\n",
      "weighted avg       0.99      0.99      0.99       104\n",
      "\n"
     ]
    }
   ],
   "source": [
    "print('===== GBC_PARAMS TEST SET ACCURACY SCORE =====')\n",
    "print(accuracy_score(y_test, gbc_params_ypred))\n",
    "print('===== GBC_PARAMS TEST SET CLASSIFICATION REPORT =====')\n",
    "print(classification_report(y_test, gbc_params_ypred))"
   ]
  },
  {
   "cell_type": "markdown",
   "metadata": {},
   "source": [
    "From the classification report we can see that tuning the model's parameters did not have any significant effect on the scores."
   ]
  },
  {
   "cell_type": "markdown",
   "metadata": {},
   "source": [
    "Next, we're going to build AdaBoost model and see how it's going to perform. Again, we will not tune hyperparameters first and will check how the model performs on train and test splits."
   ]
  },
  {
   "cell_type": "code",
   "execution_count": 20,
   "metadata": {},
   "outputs": [
    {
     "name": "stdout",
     "output_type": "stream",
     "text": [
      "===== ABC ACCURACY SCORE =====\n",
      "0.9519230769230769\n",
      "===== ABC CLASSIFICATION REPORT =====\n",
      "              precision    recall  f1-score   support\n",
      "\n",
      "           0       0.89      1.00      0.94        40\n",
      "           1       1.00      0.92      0.96        64\n",
      "\n",
      "    accuracy                           0.95       104\n",
      "   macro avg       0.94      0.96      0.95       104\n",
      "weighted avg       0.96      0.95      0.95       104\n",
      "\n"
     ]
    }
   ],
   "source": [
    "abc = AdaBoostClassifier(random_state=42)\n",
    "abc.fit(X_train_norm, y_train)\n",
    "abc_ypred = abc.predict(X_test_norm)\n",
    "print('===== ABC ACCURACY SCORE =====')\n",
    "print(accuracy_score(y_test, abc_ypred))\n",
    "print('===== ABC CLASSIFICATION REPORT =====')\n",
    "print(classification_report(y_test, abc_ypred))"
   ]
  },
  {
   "cell_type": "markdown",
   "metadata": {},
   "source": [
    "Now we will tune hyperparameters of AdaBoostingClassifier and check if it's goint to improve model performance."
   ]
  },
  {
   "cell_type": "code",
   "execution_count": 21,
   "metadata": {},
   "outputs": [
    {
     "data": {
      "text/plain": [
       "dict_keys(['algorithm', 'base_estimator', 'learning_rate', 'n_estimators', 'random_state'])"
      ]
     },
     "execution_count": 21,
     "metadata": {},
     "output_type": "execute_result"
    }
   ],
   "source": [
    "abc.get_params().keys()"
   ]
  },
  {
   "cell_type": "code",
   "execution_count": 22,
   "metadata": {},
   "outputs": [],
   "source": [
    "param_grid = {\"base_estimator__criterion\" : [\"gini\", \"entropy\"],\n",
    "              \"base_estimator__splitter\" :   [\"best\", \"random\"],\n",
    "              \"learning_rate\": [0.05, 0.1, 0.25, 0.5, 0.75, 1],\n",
    "              \"n_estimators\": [int(i) for i in np.linspace(200, 2000, 10)]\n",
    "             }\n",
    "\n",
    "\n",
    "weak_c = DecisionTreeClassifier(random_state = 42, max_features = \"auto\", class_weight = \"balanced\", max_depth = 3)\n",
    "\n",
    "ABC = AdaBoostClassifier(base_estimator = weak_c)"
   ]
  },
  {
   "cell_type": "code",
   "execution_count": 23,
   "metadata": {},
   "outputs": [],
   "source": [
    "# abc_rand = RandomizedSearchCV(estimator=ABC, param_distributions=param_grid, n_iter=40, cv=5, scoring='roc_auc', random_state=42)\n",
    "# abc_rand.fit(X_train_norm, y_train)\n",
    "# print(abc_rand.best_params_)"
   ]
  },
  {
   "cell_type": "markdown",
   "metadata": {},
   "source": [
    "Let's plug those parameters into the model."
   ]
  },
  {
   "cell_type": "code",
   "execution_count": 24,
   "metadata": {},
   "outputs": [],
   "source": [
    "base_est = DecisionTreeClassifier(random_state=42, max_features='auto', class_weight='balanced', max_depth=3, splitter='best', criterion='gini')\n",
    "abc_params = AdaBoostClassifier(base_estimator=base_est, n_estimators=200, learning_rate=0.1, random_state=42)\n",
    "abc_params.fit(X_train_norm, y_train)\n",
    "abc_params_ypred = abc_params.predict(X_test_norm)"
   ]
  },
  {
   "cell_type": "code",
   "execution_count": 25,
   "metadata": {},
   "outputs": [
    {
     "name": "stdout",
     "output_type": "stream",
     "text": [
      "===== ABC_PARAMS ACCURACY SCORE =====\n",
      "1.0\n",
      "===== ABC_PARAMS CLASSIFICATION REPORT =====\n",
      "              precision    recall  f1-score   support\n",
      "\n",
      "           0       1.00      1.00      1.00        40\n",
      "           1       1.00      1.00      1.00        64\n",
      "\n",
      "    accuracy                           1.00       104\n",
      "   macro avg       1.00      1.00      1.00       104\n",
      "weighted avg       1.00      1.00      1.00       104\n",
      "\n"
     ]
    }
   ],
   "source": [
    "print('===== ABC_PARAMS ACCURACY SCORE =====')\n",
    "print(accuracy_score(y_test, abc_params_ypred))\n",
    "print('===== ABC_PARAMS CLASSIFICATION REPORT =====')\n",
    "print(classification_report(y_test, abc_params_ypred))"
   ]
  },
  {
   "cell_type": "markdown",
   "metadata": {},
   "source": [
    "We can see that hyperparameters tuning on ADABoostClassifier allowed us to achieve perfect score."
   ]
  },
  {
   "cell_type": "markdown",
   "metadata": {},
   "source": [
    "Among all models that we built, AdaBoostClassifier showed the highest results - 100% on the test set after hyperparameters tuning. This is the best models we've built so far."
   ]
  },
  {
   "cell_type": "markdown",
   "metadata": {},
   "source": [
    "Now, let's build our third model - SupportVectorMachine. For this problem we will use Radial Basis Function kernel."
   ]
  },
  {
   "cell_type": "code",
   "execution_count": 26,
   "metadata": {},
   "outputs": [],
   "source": [
    "svmclf = svm.SVC(kernel='rbf')\n",
    "svmclf.fit(X_train_norm, y_train)\n",
    "svmclf_ypred = svmclf.predict(X_test_norm)"
   ]
  },
  {
   "cell_type": "code",
   "execution_count": 27,
   "metadata": {},
   "outputs": [
    {
     "name": "stdout",
     "output_type": "stream",
     "text": [
      "=====SVMCLF ACCURACY SCORE=====\n",
      "0.9807692307692307\n",
      "=====SVMCLF CLASSIFICATION REPORT=====\n",
      "              precision    recall  f1-score   support\n",
      "\n",
      "           0       0.97      0.97      0.97        40\n",
      "           1       0.98      0.98      0.98        64\n",
      "\n",
      "    accuracy                           0.98       104\n",
      "   macro avg       0.98      0.98      0.98       104\n",
      "weighted avg       0.98      0.98      0.98       104\n",
      "\n"
     ]
    }
   ],
   "source": [
    "print('=====SVMCLF ACCURACY SCORE=====')\n",
    "print(accuracy_score(y_test, svmclf_ypred))\n",
    "print('=====SVMCLF CLASSIFICATION REPORT=====')\n",
    "print(classification_report(y_test, svmclf_ypred))"
   ]
  },
  {
   "cell_type": "markdown",
   "metadata": {},
   "source": [
    "From the classification report we can tell that support vector machine with RBF kernel and no hyperparameters tuning shows results that are just slightly worse than those of GradientBoostingClassifier. However, it is still inferior to ADABoostClassifier. Now let's find out the best parameters for our SVM model."
   ]
  },
  {
   "cell_type": "code",
   "execution_count": 28,
   "metadata": {},
   "outputs": [
    {
     "data": {
      "text/plain": [
       "dict_keys(['C', 'break_ties', 'cache_size', 'class_weight', 'coef0', 'decision_function_shape', 'degree', 'gamma', 'kernel', 'max_iter', 'probability', 'random_state', 'shrinking', 'tol', 'verbose'])"
      ]
     },
     "execution_count": 28,
     "metadata": {},
     "output_type": "execute_result"
    }
   ],
   "source": [
    "svmclf.get_params().keys()"
   ]
  },
  {
   "cell_type": "markdown",
   "metadata": {},
   "source": [
    "For our SVM with RBF kernel we are mostly interested in two parameters (except 'kernel' itself, of course) - 'C' and 'gamma'."
   ]
  },
  {
   "cell_type": "code",
   "execution_count": 29,
   "metadata": {},
   "outputs": [],
   "source": [
    "# C_param = np.logspace(-2, 10, 13)\n",
    "# gamma_param = np.logspace(-9, 3, 13)\n",
    "# grid_param = {'C':C_param, 'gamma':gamma_param}\n",
    "# svmclf_grid = GridSearchCV(svmclf, param_grid=grid_param, cv=5)\n",
    "# svmclf_grid.fit(X_train_norm, y_train)"
   ]
  },
  {
   "cell_type": "code",
   "execution_count": 30,
   "metadata": {},
   "outputs": [],
   "source": [
    "# print(svmclf_grid.best_params_)"
   ]
  },
  {
   "cell_type": "markdown",
   "metadata": {},
   "source": [
    "Now let's plug those parameters into the model."
   ]
  },
  {
   "cell_type": "code",
   "execution_count": 31,
   "metadata": {},
   "outputs": [
    {
     "name": "stdout",
     "output_type": "stream",
     "text": [
      "=====SVMCLF_PARAMS ACCURACY SCORE=====\n",
      "0.9807692307692307\n",
      "=====SVMCLF_PARAMS CLASSIFICATION REPORT=====\n",
      "              precision    recall  f1-score   support\n",
      "\n",
      "           0       0.97      0.97      0.97        40\n",
      "           1       0.98      0.98      0.98        64\n",
      "\n",
      "    accuracy                           0.98       104\n",
      "   macro avg       0.98      0.98      0.98       104\n",
      "weighted avg       0.98      0.98      0.98       104\n",
      "\n"
     ]
    }
   ],
   "source": [
    "svmclf_params = svm.SVC(kernel='rbf', C=10.0, gamma=0.1)\n",
    "svmclf_params.fit(X_train_norm, y_train)\n",
    "svmclf_params_ypred = svmclf_params.predict(X_test_norm)\n",
    "print('=====SVMCLF_PARAMS ACCURACY SCORE=====')\n",
    "print(accuracy_score(y_test, svmclf_params_ypred))\n",
    "print('=====SVMCLF_PARAMS CLASSIFICATION REPORT=====')\n",
    "print(classification_report(y_test, svmclf_params_ypred))"
   ]
  },
  {
   "cell_type": "markdown",
   "metadata": {},
   "source": [
    "We can see that hyperparameters tuning did not change the model's performance. We can assume that those parameters we determined using GridSearchCV were used as default parameters in our first SVM model."
   ]
  },
  {
   "cell_type": "markdown",
   "metadata": {},
   "source": [
    "Now, let's put our models'results into one table in order to better understand how they performed with respect to each other. We will only use tuned models since they showed better performance than not tuned ones."
   ]
  },
  {
   "cell_type": "markdown",
   "metadata": {},
   "source": [
    "| MODEL | ACCURACY | PRECISION (1) | PRECISION (0) | RECALL (1) | RECALL (0) | F1-SCORE (1) | F1-SCORE (0) |\n",
    "| :-: | :-: | :-: | :-: | :-: | :-: | :-: | :-: |\n",
    "| LogisticRegression | 0.85 | 1.00 | 0.71 | 0.75 | 1.00 | 0.86 | 0.83 |\n",
    "| RandomForest | 0.98 | 0.98 | 0.97 | 0.98 | 0.97 | 0.98 | 0.97 |\n",
    "| GradientBoosting | 0.90 | 0.98 | 1.00 | 1.00 | 0.97 | 0.99 | 0.99 |\n",
    "| ADABoost | 1.00 | 1.00 | 1.00 | 1.00 | 1.00 | 1.00 | 1.00 |\n",
    "| Support Vector Machine | 0.98 | 0.98 | 0.97 | 0.98 | 0.97 | 0.98 | 0.97 |"
   ]
  },
  {
   "cell_type": "markdown",
   "metadata": {},
   "source": [
    "#### As we can see from the table above, ADABoostClassifier showed the best - in fact, perfect - scores. In our future work we will use this model.\n",
    "\n",
    "It is  also important to point out that most of our models showed very good results. Putting our model tuning aside, there is one thing that might have contributed to those results - the dataset might have been artificially composed the way that makes it eaiser to build models with high scores."
   ]
  },
  {
   "cell_type": "markdown",
   "metadata": {},
   "source": [
    "Now let's refresh some moments from the EDA. We saved the correlation dataframes as pickle files. Now let's open them. Here are top5 feature-to-target and feature-to-feature correlations in our dataset."
   ]
  },
  {
   "cell_type": "code",
   "execution_count": 32,
   "metadata": {},
   "outputs": [],
   "source": [
    "# with open('D:\\Tutorials\\SDST\\My Projects\\Capstone2\\Correlations\\Feature-to-Target.pkl', 'rb') as f_to_t_pickle:\n",
    "#     f_to_t = pickle.load(f_to_t_pickle)\n",
    "# with open('D:\\Tutorials\\SDST\\My Projects\\Capstone2\\Correlations\\Feature-to-Feature.pkl', 'rb') as f_to_f_pickle:\n",
    "#     f_to_f = pickle.load(f_to_f_pickle)"
   ]
  },
  {
   "cell_type": "code",
   "execution_count": 33,
   "metadata": {},
   "outputs": [],
   "source": [
    "imp_feat = df[['Polyuria', 'Polydipsia', 'Gender', 'sudden weight loss', 'partial paresis', 'class']]\n",
    "corr_imp = imp_feat.corr()\n",
    "top_corr_features = corr_imp.index\n",
    "corr_imp_df = pd.DataFrame(corr_imp)\n",
    "f_to_t = (corr_imp_df.where(np.triu(np.ones(corr_imp_df.shape), k=1).astype(np.bool)).stack().sort_values(ascending=False))\n",
    "corr_imp_df_nt = corr_imp_df.drop('class', axis=1)\n",
    "f_to_f = (corr_imp_df_nt.where(np.triu(np.ones(corr_imp_df_nt.shape), k=1).astype(np.bool)).stack().sort_values(ascending=False))"
   ]
  },
  {
   "cell_type": "code",
   "execution_count": 34,
   "metadata": {},
   "outputs": [],
   "source": [
    "top_feat_corr = f_to_f[:5]\n",
    "top_targ_corr = f_to_t[:5]"
   ]
  },
  {
   "cell_type": "code",
   "execution_count": 35,
   "metadata": {},
   "outputs": [
    {
     "name": "stdout",
     "output_type": "stream",
     "text": [
      "Top F-to-F correlations: \n",
      " Polyuria    Polydipsia            0.598609\n",
      "            sudden weight loss    0.447207\n",
      "Polydipsia  partial paresis       0.442249\n",
      "Polyuria    partial paresis       0.441664\n",
      "Polydipsia  sudden weight loss    0.405965\n",
      "dtype: float64\n"
     ]
    }
   ],
   "source": [
    "print('Top F-to-F correlations: \\n', top_feat_corr)"
   ]
  },
  {
   "cell_type": "code",
   "execution_count": 36,
   "metadata": {},
   "outputs": [
    {
     "name": "stdout",
     "output_type": "stream",
     "text": [
      "Top F-to-T correlations: \n",
      " Polyuria    class                 0.665922\n",
      "Polydipsia  class                 0.648734\n",
      "Polyuria    Polydipsia            0.598609\n",
      "Gender      class                 0.449233\n",
      "Polyuria    sudden weight loss    0.447207\n",
      "dtype: float64\n"
     ]
    }
   ],
   "source": [
    "print('Top F-to-T correlations: \\n', top_targ_corr)"
   ]
  },
  {
   "cell_type": "markdown",
   "metadata": {},
   "source": [
    "As we know from EDA, our target feature ('class') has the highest correlation with 'Polyuria' (0.67) and 'Polydipsia' (0.65). Those two features are also highly correlated with each other (0.60). 'Polyuria' is correlated with 'sudden weight loss' (0.45) and 'Polydipsia' is correlated with 'partial paresis' (0.44), and target feature 'class' has approximately the same level of correlation with 'Gender' (0.45).\n",
    "\n",
    "We don't really see a lot of colineraity in our features. However, in order to make sure there is no data leakage, we will perform one more test. \n",
    "\n",
    "Let's pick top two features from our Feature-to-Target Correlation list and call them PU ('Polyuria') and PD ('Polydipsia'). We will first drop PU feature from our dataset and train model on it, and evaluate model performance without this feature. We will then do the same with PD feature."
   ]
  },
  {
   "cell_type": "code",
   "execution_count": 37,
   "metadata": {},
   "outputs": [],
   "source": [
    "df_no_PU = df.drop('Polyuria', axis=1)"
   ]
  },
  {
   "cell_type": "code",
   "execution_count": 38,
   "metadata": {},
   "outputs": [],
   "source": [
    "X_no_PU = df_no_PU.drop('class', axis=1)\n",
    "y_no_PU = df_no_PU['class']"
   ]
  },
  {
   "cell_type": "code",
   "execution_count": 39,
   "metadata": {},
   "outputs": [],
   "source": [
    "X_train_no_PU, X_test_no_PU, y_train_no_PU, y_test_no_PU = train_test_split(X_no_PU, y_no_PU, test_size=0.2, stratify=y_no_PU, random_state=42)\n",
    "X_train_no_PU = pd.DataFrame(scaler.fit_transform(X_train_no_PU), columns=X_train_no_PU.columns)\n",
    "X_test_no_PU = pd.DataFrame(scaler.transform(X_test_no_PU), columns = X_test_no_PU.columns)"
   ]
  },
  {
   "cell_type": "code",
   "execution_count": 40,
   "metadata": {},
   "outputs": [
    {
     "name": "stdout",
     "output_type": "stream",
     "text": [
      "===== ABC_NO_PU ACCURACY SCORE =====\n",
      "0.9807692307692307\n",
      "===== ABC_NO_PU CLASSIFICATION REPORT =====\n",
      "              precision    recall  f1-score   support\n",
      "\n",
      "           0       0.95      1.00      0.98        40\n",
      "           1       1.00      0.97      0.98        64\n",
      "\n",
      "    accuracy                           0.98       104\n",
      "   macro avg       0.98      0.98      0.98       104\n",
      "weighted avg       0.98      0.98      0.98       104\n",
      "\n"
     ]
    }
   ],
   "source": [
    "abc_no_PU = AdaBoostClassifier(base_estimator=base_est, n_estimators=200, learning_rate=0.1, random_state=42)\n",
    "abc_no_PU.fit(X_train_no_PU, y_train_no_PU)\n",
    "abc_no_PU_ypred = abc_no_PU.predict(X_test_no_PU)\n",
    "print('===== ABC_NO_PU ACCURACY SCORE =====')\n",
    "print(accuracy_score(y_test_no_PU, abc_no_PU_ypred))\n",
    "print('===== ABC_NO_PU CLASSIFICATION REPORT =====')\n",
    "print(classification_report(y_test_no_PU, abc_no_PU_ypred))"
   ]
  },
  {
   "cell_type": "markdown",
   "metadata": {},
   "source": [
    "Dropping 'Polyuria' feature led to the accuracy drop of 0.02%, precision(0) drop of 0.05%, recall(1) drop of 0.03% and f1-score drop of 0.02%. Overall, our model still shows great results.\n",
    "\n",
    "Now, let's drop 'Polydipsia' feature."
   ]
  },
  {
   "cell_type": "code",
   "execution_count": 41,
   "metadata": {},
   "outputs": [],
   "source": [
    "df_no_PD = df.drop('Polydipsia', axis=1)\n",
    "X_no_PD = df_no_PD.drop('class', axis=1)\n",
    "y_no_PD = df_no_PD['class']\n",
    "X_train_no_PD, X_test_no_PD, y_train_no_PD, y_test_no_PD = train_test_split(X_no_PD, y_no_PD, test_size=0.2, stratify=y_no_PD, random_state=42)\n",
    "X_train_no_PD = pd.DataFrame(scaler.fit_transform(X_train_no_PD), columns=X_train_no_PD.columns)\n",
    "X_test_no_PD = pd.DataFrame(scaler.transform(X_test_no_PD), columns = X_test_no_PD.columns)"
   ]
  },
  {
   "cell_type": "code",
   "execution_count": 42,
   "metadata": {},
   "outputs": [
    {
     "name": "stdout",
     "output_type": "stream",
     "text": [
      "===== ABC_NO_PD ACCURACY SCORE =====\n",
      "0.9807692307692307\n",
      "===== ABC_NO_PD CLASSIFICATION REPORT =====\n",
      "              precision    recall  f1-score   support\n",
      "\n",
      "           0       0.95      1.00      0.98        40\n",
      "           1       1.00      0.97      0.98        64\n",
      "\n",
      "    accuracy                           0.98       104\n",
      "   macro avg       0.98      0.98      0.98       104\n",
      "weighted avg       0.98      0.98      0.98       104\n",
      "\n"
     ]
    }
   ],
   "source": [
    "abc_no_PD = AdaBoostClassifier(base_estimator=base_est, n_estimators=200, learning_rate=0.1, random_state=42)\n",
    "abc_no_PD.fit(X_train_no_PD, y_train_no_PD)\n",
    "abc_no_PD_ypred = abc_no_PD.predict(X_test_no_PD)\n",
    "print('===== ABC_NO_PD ACCURACY SCORE =====')\n",
    "print(accuracy_score(y_test_no_PD, abc_no_PD_ypred))\n",
    "print('===== ABC_NO_PD CLASSIFICATION REPORT =====')\n",
    "print(classification_report(y_test_no_PD, abc_no_PD_ypred))"
   ]
  },
  {
   "cell_type": "markdown",
   "metadata": {},
   "source": [
    "Dropping 'Polydipsia' feature led to exact same results as dropping 'Poluyria'. It makes total sense, considering the fact that their correlation with the target feature is almost identical with the difference of only 0.01%."
   ]
  },
  {
   "cell_type": "markdown",
   "metadata": {},
   "source": [
    "Now we will continues to drop feature columns. We know that our 'Polyuria' and 'Polydipsia' are correlated the most with each other, among all the exploratory variables. However, we already know how our model perform without them, so we will pick those two features whose correlation with each other are second-highest - 'Gender' and 'partial paresis' (0.33).\n",
    "\n",
    "'Gender' feature's name will be 'G' and 'partial paresis' feature's name will be 'PP'."
   ]
  },
  {
   "cell_type": "code",
   "execution_count": 43,
   "metadata": {},
   "outputs": [],
   "source": [
    "df_no_G = df.drop('Gender', axis=1)\n",
    "X_no_G = df_no_G.drop('class', axis=1)\n",
    "y_no_G = df_no_G['class']\n",
    "X_train_no_G, X_test_no_G, y_train_no_G, y_test_no_G = train_test_split(X_no_G, y_no_G, test_size=0.2, stratify=y_no_G, random_state=42)\n",
    "X_train_no_G = pd.DataFrame(scaler.fit_transform(X_train_no_G, y_train_no_G), columns=X_train_no_G.columns)\n",
    "X_test_no_G = pd.DataFrame(scaler.transform(X_test_no_G), columns=X_test_no_G.columns)"
   ]
  },
  {
   "cell_type": "code",
   "execution_count": 44,
   "metadata": {},
   "outputs": [
    {
     "name": "stdout",
     "output_type": "stream",
     "text": [
      "===== ABC_NO_G ACCURACY SCORE =====\n",
      "0.9807692307692307\n",
      "===== ABC_NO_G CLASSIFICATION REPORT =====\n",
      "              precision    recall  f1-score   support\n",
      "\n",
      "           0       0.97      0.97      0.97        40\n",
      "           1       0.98      0.98      0.98        64\n",
      "\n",
      "    accuracy                           0.98       104\n",
      "   macro avg       0.98      0.98      0.98       104\n",
      "weighted avg       0.98      0.98      0.98       104\n",
      "\n"
     ]
    }
   ],
   "source": [
    "abc_no_G = AdaBoostClassifier(base_estimator=base_est, n_estimators=200, learning_rate=0.1, random_state=42)\n",
    "abc_no_G.fit(X_train_no_G, y_train_no_G)\n",
    "abc_no_G_ypred = abc_no_G.predict(X_test_no_G)\n",
    "print('===== ABC_NO_G ACCURACY SCORE =====')\n",
    "print(accuracy_score(y_test_no_G, abc_no_G_ypred))\n",
    "print('===== ABC_NO_G CLASSIFICATION REPORT =====')\n",
    "print(classification_report(y_test_no_G, abc_no_G_ypred))"
   ]
  },
  {
   "cell_type": "markdown",
   "metadata": {},
   "source": [
    "Dropping 'Gender' feature led to 0.03% drop in all metrics with respect to target class '0' ('negative') and 0.02% drop with respect to class '1' ('positive'). Accuracy also dropped on 0.02%\n",
    "\n",
    "Now, let's remove 'partial paresis' feature from our dataset."
   ]
  },
  {
   "cell_type": "code",
   "execution_count": 45,
   "metadata": {},
   "outputs": [],
   "source": [
    "df_no_PP = df.drop('partial paresis', axis=1)\n",
    "X_no_PP = df_no_PP.drop('class', axis=1)\n",
    "y_no_PP = df_no_PP['class']\n",
    "X_train_no_PP, X_test_no_PP, y_train_no_PP, y_test_no_PP = train_test_split(X_no_PP, y_no_PP, test_size=0.2, stratify=y_no_PP, random_state=42)\n",
    "X_train_no_PP = pd.DataFrame(scaler.fit_transform(X_train_no_PP, y_train_no_PP), columns=X_train_no_PP.columns)\n",
    "X_test_no_PP = pd.DataFrame(scaler.transform(X_test_no_PP), columns=X_test_no_PP.columns)"
   ]
  },
  {
   "cell_type": "code",
   "execution_count": 46,
   "metadata": {},
   "outputs": [
    {
     "name": "stdout",
     "output_type": "stream",
     "text": [
      "===== ABC_NO_PP ACCURACY SCORE =====\n",
      "0.9711538461538461\n",
      "===== ABC_NO_PP CLASSIFICATION REPORT =====\n",
      "              precision    recall  f1-score   support\n",
      "\n",
      "           0       0.93      1.00      0.96        40\n",
      "           1       1.00      0.95      0.98        64\n",
      "\n",
      "    accuracy                           0.97       104\n",
      "   macro avg       0.97      0.98      0.97       104\n",
      "weighted avg       0.97      0.97      0.97       104\n",
      "\n"
     ]
    }
   ],
   "source": [
    "abc_no_PP = AdaBoostClassifier(base_estimator=base_est, n_estimators=200, learning_rate=0.1, random_state=42)\n",
    "abc_no_PP.fit(X_train_no_PP, y_train_no_PP)\n",
    "abc_no_PP_ypred = abc_no_PP.predict(X_test_no_PP)\n",
    "print('===== ABC_NO_PP ACCURACY SCORE =====')\n",
    "print(accuracy_score(y_test_no_PP, abc_no_PP_ypred))\n",
    "print('===== ABC_NO_PP CLASSIFICATION REPORT =====')\n",
    "print(classification_report(y_test_no_PP, abc_no_PP_ypred))"
   ]
  },
  {
   "cell_type": "markdown",
   "metadata": {},
   "source": [
    "Dropping 'partial paresis' feature led to accuracy drop of 0.03%. Other metrics also showed some drop.\n",
    "\n",
    "### However, none of the features we dropped made our model significantly worsen its performance. From that fact we can derive that there is no data leakage in our model and no colinearity in our data which could negatively affect the model's performance."
   ]
  },
  {
   "cell_type": "markdown",
   "metadata": {},
   "source": [
    "Now, after we made sure our model is robust and consistently shows good results, we want to know what features have most importance for the model. We will perform feature impact analysis for our LogisticRegression model and permutation feature importance analysis for all the tree-based algorithms (RandomForest, GradientBoosting and ADABoost).\n",
    "\n",
    "As we know, in logistic regression prediction is a weighted sum of the input values. For the feature impact analysis we will find a set of coefficients to use in the weighted sum in order to make a prediction. These coefficients will be our feature importance scores for the model.\n",
    "\n",
    "The permutation feature importance is the decrease in a model score when a single feature value is randomly shuffled. Shuffling a feature breaks its relatiomship with the target thus changing the model performance. If the change is significant then the feature is important.\n",
    "\n",
    "We will start with LogisticRegression."
   ]
  },
  {
   "cell_type": "code",
   "execution_count": 47,
   "metadata": {},
   "outputs": [],
   "source": [
    "lr.fit(X_train_norm, y_train);"
   ]
  },
  {
   "cell_type": "code",
   "execution_count": 48,
   "metadata": {},
   "outputs": [
    {
     "name": "stdout",
     "output_type": "stream",
     "text": [
      "Feature: 0, Score: -0.40357\n",
      "Feature: 1, Score: 1.78744\n",
      "Feature: 2, Score: 1.61094\n",
      "Feature: 3, Score: 1.92922\n",
      "Feature: 4, Score: 0.25534\n",
      "Feature: 5, Score: 0.24667\n",
      "Feature: 6, Score: 0.55142\n",
      "Feature: 7, Score: 0.55761\n",
      "Feature: 8, Score: 0.31655\n",
      "Feature: 9, Score: -1.06949\n",
      "Feature: 10, Score: 0.80936\n",
      "Feature: 11, Score: -0.06380\n",
      "Feature: 12, Score: 0.44703\n",
      "Feature: 13, Score: -0.31882\n",
      "Feature: 14, Score: -0.06079\n",
      "Feature: 15, Score: -0.11211\n"
     ]
    },
    {
     "data": {
      "image/png": "[encoded data removed]",
      "text/plain": [
       "<Figure size 576x576 with 1 Axes>"
      ]
     },
     "metadata": {
      "needs_background": "light"
     },
     "output_type": "display_data"
    }
   ],
   "source": [
    "#calculating importances\n",
    "lr_importance = lr.coef_[0]\n",
    "for f,s in enumerate(lr_importance):\n",
    "    print('Feature: %0d, Score: %.5f' %(f,s))\n",
    "#plotting importances\n",
    "plt.figure(figsize=(8,8))\n",
    "plt.bar([x for x in range(len(lr_importance))], lr_importance)\n",
    "plt.xlabel('Feature')\n",
    "plt.ylabel('Importance')\n",
    "plt.title('LogisticRegressionClassifier Feature Importance')\n",
    "plt.show();"
   ]
  },
  {
   "cell_type": "markdown",
   "metadata": {},
   "source": [
    "Those features that have positive sign contribute to being classified as '1', and those with negative - as '0'. From the barplot we can tell that three most important features for class '1' are features 3 ('Polydipsia'), 1 ('Gender') and 2 ('Polyuria'). The feature that is most important for class '0' is feature 9 ('Itching').\n",
    "\n",
    "It is important to note that the coefficients we got ARE NOT the intrinsic importance of those feaure values in general, but their importance FOR THIS PARTICULAR LogisticRegression model.\n",
    "\n",
    "Now, let's move to RandomForest model."
   ]
  },
  {
   "cell_type": "code",
   "execution_count": 49,
   "metadata": {},
   "outputs": [
    {
     "name": "stdout",
     "output_type": "stream",
     "text": [
      "Feature: 0, Score: 0.10307\n",
      "Feature: 1, Score: 0.11421\n",
      "Feature: 2, Score: 0.20998\n",
      "Feature: 3, Score: 0.18564\n",
      "Feature: 4, Score: 0.06078\n",
      "Feature: 5, Score: 0.01882\n",
      "Feature: 6, Score: 0.02844\n",
      "Feature: 7, Score: 0.02242\n",
      "Feature: 8, Score: 0.02591\n",
      "Feature: 9, Score: 0.03081\n",
      "Feature: 10, Score: 0.03701\n",
      "Feature: 11, Score: 0.03342\n",
      "Feature: 12, Score: 0.04536\n",
      "Feature: 13, Score: 0.02140\n",
      "Feature: 14, Score: 0.04312\n",
      "Feature: 15, Score: 0.01961\n"
     ]
    },
    {
     "data": {
      "image/png": "[encoded data removed]",
      "text/plain": [
       "<Figure size 576x576 with 1 Axes>"
      ]
     },
     "metadata": {
      "needs_background": "light"
     },
     "output_type": "display_data"
    }
   ],
   "source": [
    "rfc_importance = rfc.feature_importances_\n",
    "for f,s in enumerate(rfc_importance):\n",
    "    print('Feature: %0d, Score: %.5f' %(f,s))\n",
    "plt.figure(figsize=(8,8))\n",
    "plt.bar([x for x in range(len(rfc_importance))], rfc_importance)\n",
    "plt.xlabel('Feature')\n",
    "plt.ylabel('Importance')\n",
    "plt.title('RandomForestClassifier Feature Importance')\n",
    "plt.show();"
   ]
  },
  {
   "cell_type": "markdown",
   "metadata": {},
   "source": [
    "Here we see same three features having the biggest impact. However, the order is different now - 'Polyuria' and 'Polydipsia' having significantly higher importance then the 'Gender'.\n",
    "\n",
    "It's important to note that we only see the magnitued of feature importances, but we can't tell if they contribute to class '1' or class '0'.\n",
    "\n",
    "Let's move on to GradientBossting model."
   ]
  },
  {
   "cell_type": "code",
   "execution_count": 50,
   "metadata": {},
   "outputs": [
    {
     "name": "stdout",
     "output_type": "stream",
     "text": [
      "Feature: 0, Score: 0.10253\n",
      "Feature: 1, Score: 0.10712\n",
      "Feature: 2, Score: 0.19898\n",
      "Feature: 3, Score: 0.17738\n",
      "Feature: 4, Score: 0.07056\n",
      "Feature: 5, Score: 0.01507\n",
      "Feature: 6, Score: 0.05138\n",
      "Feature: 7, Score: 0.02548\n",
      "Feature: 8, Score: 0.03447\n",
      "Feature: 9, Score: 0.02367\n",
      "Feature: 10, Score: 0.02761\n",
      "Feature: 11, Score: 0.04210\n",
      "Feature: 12, Score: 0.03438\n",
      "Feature: 13, Score: 0.02452\n",
      "Feature: 14, Score: 0.04217\n",
      "Feature: 15, Score: 0.02257\n"
     ]
    },
    {
     "data": {
      "image/png": "[encoded data removed]",
      "text/plain": [
       "<Figure size 576x576 with 1 Axes>"
      ]
     },
     "metadata": {
      "needs_background": "light"
     },
     "output_type": "display_data"
    }
   ],
   "source": [
    "gbc_importance = gbc_params.feature_importances_\n",
    "for f,s in enumerate(gbc_importance):\n",
    "    print('Feature: %0d, Score: %.5f' %(f,s))\n",
    "plt.figure(figsize=(8,8))\n",
    "plt.bar([x for x in range(len(gbc_importance))], gbc_importance)\n",
    "plt.xlabel('Feature')\n",
    "plt.ylabel('Importance')\n",
    "plt.title('GradientBoostingClassifier Feature Importance')\n",
    "plt.show();"
   ]
  },
  {
   "cell_type": "markdown",
   "metadata": {},
   "source": [
    "Since GradientBoosting is a version of RandomForest, we would assume that the results they show should not be very different. We can see from the graph that this assumption is correct, and our GradientBoosting model showed almost identical results as RandomForestClassifier. \n",
    "\n",
    "Now, let's proceed to ADABoostClassifier."
   ]
  },
  {
   "cell_type": "code",
   "execution_count": 51,
   "metadata": {},
   "outputs": [
    {
     "name": "stdout",
     "output_type": "stream",
     "text": [
      "Feature: 0, Score: 0.22989\n",
      "Feature: 1, Score: 0.30032\n",
      "Feature: 2, Score: 0.02277\n",
      "Feature: 3, Score: 0.02680\n",
      "Feature: 4, Score: 0.03632\n",
      "Feature: 5, Score: 0.04495\n",
      "Feature: 6, Score: 0.02664\n",
      "Feature: 7, Score: 0.03520\n",
      "Feature: 8, Score: 0.02416\n",
      "Feature: 9, Score: 0.05420\n",
      "Feature: 10, Score: 0.03962\n",
      "Feature: 11, Score: 0.04386\n",
      "Feature: 12, Score: 0.01688\n",
      "Feature: 13, Score: 0.03280\n",
      "Feature: 14, Score: 0.05675\n",
      "Feature: 15, Score: 0.00885\n"
     ]
    },
    {
     "data": {
      "image/png": "[encoded data removed]",
      "text/plain": [
       "<Figure size 576x576 with 1 Axes>"
      ]
     },
     "metadata": {
      "needs_background": "light"
     },
     "output_type": "display_data"
    }
   ],
   "source": [
    "abc_importance = abc_params.feature_importances_\n",
    "for f,s in enumerate(abc_importance):\n",
    "    print('Feature: %0d, Score: %.5f' %(f,s))\n",
    "plt.figure(figsize=(8,8))\n",
    "plt.bar([x for x in range(len(abc_importance))], abc_importance)\n",
    "plt.xlabel('Feature')\n",
    "plt.ylabel('Importance')\n",
    "plt.title('ADABoostClassifier Feature Importance')\n",
    "plt.show();"
   ]
  },
  {
   "cell_type": "markdown",
   "metadata": {},
   "source": [
    "Interestingly enough, ADABoost shows completely different results. The most important features are feature 0 ('Age') and feature 1 ('Gender').\n",
    "\n",
    "We also built SupportVectorMachine classifier. However, since we did not use linear kernel, it is impossible to get feature importance from that model."
   ]
  },
  {
   "cell_type": "markdown",
   "metadata": {},
   "source": [
    "## Conclusion\n",
    "\n",
    "In this notebook we performed Modeling step of the Data Science method. We loaded and tuned models we built in the previous step and also built 3 additional model - GradientBoostingClassifier, ADABoostClassifier and SupportVectorMachines. We assesed models' performance and picked the one that showed the best results. In our case it was ADABoostClassifier, which, after hyperparameter tuning showed perfect scores. It is a very unusual result which might be due to the dataset and the way it was composed. Then we made sure there was no colinearity in the data and no redundant features. After that we performed feature impact and feature importance analysis. Most of the models showed three features to be the most important ('Polyuria', 'Polydipsia', 'Gender'), however, ADABoostClassifier showed 'Age' and 'Gender' to be the most important. It is also should be pointed out that the actual coefficients of those features in the Tree-Based Algorithms were low, with the highest being 0.3. In LogisticRegressionClassifier those features showed significanlty higher scores.\n",
    "\n",
    "After performing all the tests it would be reasonable to assume that 'Polyuria', 'Polydipsia' and 'Gender' are top-3 features that could be used for predicting diabetes."
   ]
  }
 ],
 "metadata": {
  "kernelspec": {
   "display_name": "Python 3",
   "language": "python",
   "name": "python3"
  },
  "language_info": {
   "codemirror_mode": {
    "name": "ipython",
    "version": 3
   },
   "file_extension": ".py",
   "mimetype": "text/x-python",
   "name": "python",
   "nbconvert_exporter": "python",
   "pygments_lexer": "ipython3",
   "version": "3.7.9"
  }
 },
 "nbformat": 4,
 "nbformat_minor": 4
}
